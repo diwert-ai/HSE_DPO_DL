{
 "cells": [
  {
   "cell_type": "markdown",
   "metadata": {},
   "source": [
    "# `Занятие 6: Автокодировщики. Часть 1`"
   ]
  },
  {
   "cell_type": "markdown",
   "metadata": {
    "id": "eXss--ATrRlk"
   },
   "source": [
    "## Немного об апроксимации\n",
    "Из-за бутылочного горлышка в автокодировщиках, мы теряем часть информации. \n",
    "У нас всегда есть трейд-офф - какую часть информации мы готовы потерять при снижении размерности. Что нам важнее - мало факторов или снижение информации. Чем меньше будет факторов в латентном пространстве - тем более средние величины мы будем восстанавливать.\n",
    "\n",
    "Чем больше размерность кодов, тем больше вариаций в данных автоэнкодер сможет передать. Если размерность кодов слишком мала, автоэнкодер запомнит нечто среднее по недостающим вариациям в заданной метрике (это одна из причин, почему mnist цифры все более размытые при снижении размерности кода в автоэнкодерах).\n",
    "\n"
   ]
  },
  {
   "cell_type": "markdown",
   "metadata": {
    "id": "DFdonAZSyYXj"
   },
   "source": [
    "## Manifold hypothesis\n",
    "\n",
    "Гипотеза о многообразие гласит, что многомерны данные из пеального мира (например, изображения) лежат на многообразиях низкой размерности, вложенных в пространство большой размерности.\n",
    "\n",
    "Более подробно на эту тему написано в [статье](https://bjlkeng.github.io/posts/manifolds/).\n",
    "\n",
    "Здесь я приведу небольшую цитату из нее:\\\n",
    "*The main idea here is that even though our real-world data is high-dimensional, there is actually some lower-dimensional representation. For example, all \"cat images\" might lie on a lower-dimensional manifold compared to say their original 256x256x3 image dimensions. This makes sense because we are empirically able to the learn these things in a capacity limited neural network. Otherwise learning an arbitrary 256x256x3 function would be intractable*\n",
    "\n",
    "Семинарский ноутбук составлен на основе другой [статьи](https://habr.com/ru/post/331500/)"
   ]
  },
  {
   "cell_type": "code",
   "execution_count": 1,
   "metadata": {
    "ExecuteTime": {
     "end_time": "2024-03-12T15:38:25.565879Z",
     "start_time": "2024-03-12T15:38:24.996498Z"
    },
    "executionInfo": {
     "elapsed": 928,
     "status": "ok",
     "timestamp": 1635344929969,
     "user": {
      "displayName": "иван иванов",
      "photoUrl": "https://lh3.googleusercontent.com/a/default-user=s64",
      "userId": "02926776193083975428"
     },
     "user_tz": -180
    },
    "id": "EJs-sQGtrRlm"
   },
   "outputs": [],
   "source": [
    " # Импорт необходимых библиотек\n",
    "import numpy as np\n",
    "import matplotlib.pyplot as plt\n",
    "%matplotlib inline\n",
    "import seaborn as sns\n",
    "\n",
    "# Создание датасета\n",
    "x1 = np.linspace(-2.2, 2.2, 1000)\n",
    "fx = np.cos(x1)+np.sin(x1-3)\n",
    "dots = np.vstack([x1, fx]).T\n",
    "noise = 0.06 * np.random.randn(*dots.shape)\n",
    "dots += noise\n",
    "\n",
    "# Цветные точки для отдельной визуализации позже\n",
    "from itertools import cycle\n",
    "size = 25\n",
    "colors = [\"r\", \"g\", \"c\", \"y\", \"m\"]\n",
    "idxs = range(0, x1.shape[0], x1.shape[0]//size)\n",
    "vx1 = x1[idxs]\n",
    "vdots = dots[idxs]"
   ]
  },
  {
   "cell_type": "code",
   "execution_count": 2,
   "metadata": {
    "ExecuteTime": {
     "end_time": "2024-03-12T15:38:25.570973Z",
     "start_time": "2024-03-12T15:38:25.567480Z"
    },
    "colab": {
     "base_uri": "https://localhost:8080/"
    },
    "executionInfo": {
     "elapsed": 11,
     "status": "ok",
     "timestamp": 1635344929972,
     "user": {
      "displayName": "иван иванов",
      "photoUrl": "https://lh3.googleusercontent.com/a/default-user=s64",
      "userId": "02926776193083975428"
     },
     "user_tz": -180
    },
    "id": "0na8p1DosYVl",
    "outputId": "3a694fad-ada5-4e12-aa07-04cda0bb55a5"
   },
   "outputs": [
    {
     "data": {
      "text/plain": [
       "(1000, 1000, (1000, 2), (1000, 2), 25)"
      ]
     },
     "execution_count": 2,
     "metadata": {},
     "output_type": "execute_result"
    }
   ],
   "source": [
    "len(x1), len(fx), np.vstack([x1, fx]).T.shape, noise.shape, len(idxs)"
   ]
  },
  {
   "cell_type": "code",
   "execution_count": 3,
   "metadata": {
    "ExecuteTime": {
     "end_time": "2024-03-12T15:38:25.580899Z",
     "start_time": "2024-03-12T15:38:25.572033Z"
    },
    "colab": {
     "base_uri": "https://localhost:8080/"
    },
    "executionInfo": {
     "elapsed": 261,
     "status": "ok",
     "timestamp": 1635344932647,
     "user": {
      "displayName": "иван иванов",
      "photoUrl": "https://lh3.googleusercontent.com/a/default-user=s64",
      "userId": "02926776193083975428"
     },
     "user_tz": -180
    },
    "id": "HKI5vGcl3FXN",
    "outputId": "91d83bcb-c021-40c7-a6d3-dea41ce5fadb"
   },
   "outputs": [
    {
     "data": {
      "text/plain": [
       "array([[-2.12286569,  0.31712127],\n",
       "       [-2.04414623,  0.51360059],\n",
       "       [-1.76943552,  0.78844975],\n",
       "       [-1.64612319,  0.86974686],\n",
       "       [-1.47597776,  1.18221073],\n",
       "       [-1.29520373,  1.19596148],\n",
       "       [-1.1371475 ,  1.24106322],\n",
       "       [-0.99527919,  1.32532605],\n",
       "       [-0.89769825,  1.23152787],\n",
       "       [-0.6763624 ,  1.23231165],\n",
       "       [-0.43594178,  1.1892528 ],\n",
       "       [-0.31640593,  1.09941524],\n",
       "       [-0.18264076,  0.82657238],\n",
       "       [ 0.08673612,  0.75560286],\n",
       "       [ 0.26134693,  0.55498726],\n",
       "       [ 0.35945735,  0.37604858],\n",
       "       [ 0.58886906,  0.11624161],\n",
       "       [ 0.78076154, -0.16584223],\n",
       "       [ 0.79597483, -0.34443284],\n",
       "       [ 1.1138633 , -0.5056057 ],\n",
       "       [ 1.26537637, -0.70285066],\n",
       "       [ 1.51513038, -0.88808509],\n",
       "       [ 1.62626572, -1.10348669],\n",
       "       [ 1.83547957, -1.21605274],\n",
       "       [ 2.10654488, -1.3750125 ]])"
      ]
     },
     "execution_count": 3,
     "metadata": {},
     "output_type": "execute_result"
    }
   ],
   "source": [
    "vdots"
   ]
  },
  {
   "cell_type": "code",
   "execution_count": 4,
   "metadata": {
    "ExecuteTime": {
     "end_time": "2024-03-12T15:38:25.740132Z",
     "start_time": "2024-03-12T15:38:25.628634Z"
    },
    "colab": {
     "base_uri": "https://localhost:8080/",
     "height": 592
    },
    "executionInfo": {
     "elapsed": 428,
     "status": "ok",
     "timestamp": 1635344935234,
     "user": {
      "displayName": "иван иванов",
      "photoUrl": "https://lh3.googleusercontent.com/a/default-user=s64",
      "userId": "02926776193083975428"
     },
     "user_tz": -180
    },
    "id": "fdewCymJrRln",
    "outputId": "b0cc3132-2dad-4b30-cab7-2aa562349f56"
   },
   "outputs": [
    {
     "data": {
      "image/png": "[encoded data removed]",
      "text/plain": [
       "<Figure size 1200x1000 with 1 Axes>"
      ]
     },
     "metadata": {},
     "output_type": "display_data"
    }
   ],
   "source": [
    "# Визуализация\n",
    "plt.figure(figsize=(12, 10))\n",
    "plt.xlim([-2.5, 2.5])\n",
    "plt.scatter(dots[:, 0], dots[:, 1])\n",
    "plt.plot(x1, fx,  color=\"red\", linewidth=4)\n",
    "plt.grid(False)"
   ]
  },
  {
   "cell_type": "markdown",
   "metadata": {
    "id": "F19xTPsKrRlo"
   },
   "source": [
    "Перепишем наш автоэнкодер под новые данные"
   ]
  },
  {
   "cell_type": "code",
   "execution_count": 5,
   "metadata": {
    "ExecuteTime": {
     "end_time": "2024-03-12T15:38:27.111542Z",
     "start_time": "2024-03-12T15:38:26.418196Z"
    },
    "executionInfo": {
     "elapsed": 24903,
     "status": "ok",
     "timestamp": 1635344962243,
     "user": {
      "displayName": "иван иванов",
      "photoUrl": "https://lh3.googleusercontent.com/a/default-user=s64",
      "userId": "02926776193083975428"
     },
     "user_tz": -180
    },
    "id": "QOR1ttaY41G1"
   },
   "outputs": [],
   "source": [
    "import torch\n",
    "import torch.nn as nn\n",
    "import torch.nn.functional as F\n",
    "import torch.optim as optim\n",
    "from torch.utils.data import TensorDataset, DataLoader\n",
    "\n",
    "from tqdm.auto import tqdm"
   ]
  },
  {
   "cell_type": "code",
   "execution_count": 6,
   "metadata": {
    "ExecuteTime": {
     "end_time": "2024-03-12T15:38:27.116082Z",
     "start_time": "2024-03-12T15:38:27.113221Z"
    },
    "executionInfo": {
     "elapsed": 576,
     "status": "ok",
     "timestamp": 1635342999690,
     "user": {
      "displayName": "иван иванов",
      "photoUrl": "https://lh3.googleusercontent.com/a/default-user=s64",
      "userId": "02926776193083975428"
     },
     "user_tz": -180
    },
    "id": "IktTm7dX3zWA"
   },
   "outputs": [],
   "source": [
    "class PcaAutoencoder(nn.Module):\n",
    "\n",
    "    def __init__(self, inp_shape, code_size=1):\n",
    "        \"\"\"\n",
    "        code_size это размерность кодированного представления (фичей на выходе)\n",
    "        \"\"\"\n",
    "        super().__init__()\n",
    "        \n",
    "        # смотрим, что нам надо сделать\n",
    "        self.encoder = torch.nn.Linear(inp_shape, code_size)\n",
    "        self.decoder = torch.nn.Linear(code_size, inp_shape)\n",
    "\n",
    "    def forward(self, x):\n",
    "        # и тут\n",
    "        latent_code = self.encoder(x)\n",
    "        reconstruction = self.decoder(latent_code)\n",
    "        \n",
    "        return reconstruction, latent_code"
   ]
  },
  {
   "cell_type": "code",
   "execution_count": 7,
   "metadata": {
    "ExecuteTime": {
     "end_time": "2024-03-12T15:38:27.289072Z",
     "start_time": "2024-03-12T15:38:27.117136Z"
    },
    "colab": {
     "base_uri": "https://localhost:8080/"
    },
    "executionInfo": {
     "elapsed": 12,
     "status": "ok",
     "timestamp": 1635344962244,
     "user": {
      "displayName": "иван иванов",
      "photoUrl": "https://lh3.googleusercontent.com/a/default-user=s64",
      "userId": "02926776193083975428"
     },
     "user_tz": -180
    },
    "id": "Ljo3u863I61a",
    "outputId": "ef4cef30-f143-41e5-ed78-3953acceeb26"
   },
   "outputs": [
    {
     "name": "stdout",
     "output_type": "stream",
     "text": [
      "cuda\n"
     ]
    }
   ],
   "source": [
    "DEVICE = torch.device('cuda' if torch.cuda.is_available() else 'cpu')\n",
    "print(DEVICE)\n",
    "\n",
    "EPOCHS = 40"
   ]
  },
  {
   "cell_type": "code",
   "execution_count": 8,
   "metadata": {
    "ExecuteTime": {
     "end_time": "2024-03-12T15:38:27.428322Z",
     "start_time": "2024-03-12T15:38:27.425361Z"
    },
    "executionInfo": {
     "elapsed": 215,
     "status": "ok",
     "timestamp": 1635344968865,
     "user": {
      "displayName": "иван иванов",
      "photoUrl": "https://lh3.googleusercontent.com/a/default-user=s64",
      "userId": "02926776193083975428"
     },
     "user_tz": -180
    },
    "id": "jQsTbUli4rFO"
   },
   "outputs": [],
   "source": [
    "# Train your autoencoder\n",
    "def train(model, train_loader, device=DEVICE, epochs=EPOCHS, path=''):\n",
    "    train_loss = []\n",
    "    train_loss_epoch = []\n",
    "\n",
    "    for epoch in tqdm(range(epochs)):\n",
    "        model.train()\n",
    "        for X in train_loader:\n",
    "            optimizer.zero_grad()\n",
    "            \n",
    "            batch = X[0].to(device)  # [0] is needed due to X being a list\n",
    "            reconstruction, _ = model(batch)\n",
    "            loss = criterion(reconstruction, batch)\n",
    "            loss.backward()\n",
    "\n",
    "            optimizer.step()\n",
    "\n",
    "            train_loss.append(loss.detach().cpu().numpy())\n",
    "        \n",
    "        train_loss_epoch.append(np.mean(train_loss))\n",
    "\n",
    "        if epoch % 5 == 0:\n",
    "            print(f\"After {epoch} epochs, training loss: {train_loss_epoch[-1]:.6f}\")\n",
    "\n",
    "    return model, train_loss_epoch"
   ]
  },
  {
   "cell_type": "code",
   "execution_count": 9,
   "metadata": {
    "ExecuteTime": {
     "end_time": "2024-03-12T15:38:27.637338Z",
     "start_time": "2024-03-12T15:38:27.634250Z"
    },
    "colab": {
     "base_uri": "https://localhost:8080/"
    },
    "executionInfo": {
     "elapsed": 268,
     "status": "ok",
     "timestamp": 1635344970869,
     "user": {
      "displayName": "иван иванов",
      "photoUrl": "https://lh3.googleusercontent.com/a/default-user=s64",
      "userId": "02926776193083975428"
     },
     "user_tz": -180
    },
    "id": "PfgGb_I15g8j",
    "outputId": "3b60f726-8044-497a-d804-b5138e80bc7b"
   },
   "outputs": [
    {
     "data": {
      "text/plain": [
       "2"
      ]
     },
     "execution_count": 9,
     "metadata": {},
     "output_type": "execute_result"
    }
   ],
   "source": [
    "input_shape = dots.shape[1]\n",
    "input_shape"
   ]
  },
  {
   "cell_type": "code",
   "execution_count": 10,
   "metadata": {
    "ExecuteTime": {
     "end_time": "2024-03-12T15:38:28.293086Z",
     "start_time": "2024-03-12T15:38:28.079874Z"
    },
    "executionInfo": {
     "elapsed": 16,
     "status": "ok",
     "timestamp": 1635342999694,
     "user": {
      "displayName": "иван иванов",
      "photoUrl": "https://lh3.googleusercontent.com/a/default-user=s64",
      "userId": "02926776193083975428"
     },
     "user_tz": -180
    },
    "id": "O1mapQiP4mUn"
   },
   "outputs": [],
   "source": [
    "# Create MSE loss function\n",
    "criterion = torch.nn.MSELoss()\n",
    "\n",
    "autoencoder = PcaAutoencoder(input_shape, code_size=1)\n",
    "autoencoder.to(DEVICE)\n",
    "\n",
    "# Use Adam optimizer\n",
    "optimizer = optim.Adam(autoencoder.parameters(), lr=1e-3)"
   ]
  },
  {
   "cell_type": "code",
   "execution_count": 11,
   "metadata": {
    "ExecuteTime": {
     "end_time": "2024-03-12T15:38:28.337984Z",
     "start_time": "2024-03-12T15:38:28.335127Z"
    }
   },
   "outputs": [
    {
     "data": {
      "text/plain": [
       "PcaAutoencoder(\n",
       "  (encoder): Linear(in_features=2, out_features=1, bias=True)\n",
       "  (decoder): Linear(in_features=1, out_features=2, bias=True)\n",
       ")"
      ]
     },
     "execution_count": 11,
     "metadata": {},
     "output_type": "execute_result"
    }
   ],
   "source": [
    "autoencoder"
   ]
  },
  {
   "cell_type": "code",
   "execution_count": 12,
   "metadata": {
    "ExecuteTime": {
     "end_time": "2024-03-12T15:38:28.552980Z",
     "start_time": "2024-03-12T15:38:28.550308Z"
    },
    "executionInfo": {
     "elapsed": 15,
     "status": "ok",
     "timestamp": 1635342999694,
     "user": {
      "displayName": "иван иванов",
      "photoUrl": "https://lh3.googleusercontent.com/a/default-user=s64",
      "userId": "02926776193083975428"
     },
     "user_tz": -180
    },
    "id": "cHW1DWl45yfg"
   },
   "outputs": [],
   "source": [
    "X_train = torch.tensor(dots, dtype=torch.float32)\n",
    "dataset_train = TensorDataset(X_train)\n",
    "\n",
    "BATCH_SIZE = 32\n",
    "\n",
    "train_loader = DataLoader(dataset_train, batch_size=BATCH_SIZE, shuffle=True, num_workers=1)\n",
    "test_loader = DataLoader(dataset_train, batch_size=BATCH_SIZE, shuffle=False, num_workers=1)"
   ]
  },
  {
   "cell_type": "code",
   "execution_count": 13,
   "metadata": {
    "ExecuteTime": {
     "end_time": "2024-03-12T15:38:28.771378Z",
     "start_time": "2024-03-12T15:38:28.748841Z"
    }
   },
   "outputs": [
    {
     "data": {
      "text/plain": [
       "[tensor([[ 1.4045, -0.8598],\n",
       "         [ 2.0203, -1.3007],\n",
       "         [ 1.8655, -1.1885],\n",
       "         [ 2.1383, -1.2947],\n",
       "         [ 1.8549, -1.2502],\n",
       "         [-0.2195,  0.9964],\n",
       "         [ 0.4770,  0.2899],\n",
       "         [ 0.4100,  0.4746],\n",
       "         [-0.6602,  1.3684],\n",
       "         [ 0.6005,  0.0469],\n",
       "         [-0.0816,  0.8347],\n",
       "         [ 0.0779,  0.6542],\n",
       "         [ 2.0680, -1.3249],\n",
       "         [-2.0064,  0.5403],\n",
       "         [ 0.9889, -0.3770],\n",
       "         [-2.0732,  0.6054],\n",
       "         [-1.7154,  0.8745],\n",
       "         [-0.6197,  1.2033],\n",
       "         [ 0.4290,  0.2403],\n",
       "         [ 1.2897, -0.5928],\n",
       "         [-2.1348,  0.4128],\n",
       "         [-2.0620,  0.4026],\n",
       "         [ 0.5592,  0.1322],\n",
       "         [ 1.6432, -1.0336],\n",
       "         [ 1.4271, -0.7754],\n",
       "         [-0.1389,  0.9964],\n",
       "         [-0.5871,  1.3192],\n",
       "         [-0.9357,  1.2474],\n",
       "         [ 0.5881,  0.1727],\n",
       "         [ 1.4961, -0.8955],\n",
       "         [-0.7857,  1.2726],\n",
       "         [-1.0851,  1.3034]])]"
      ]
     },
     "execution_count": 13,
     "metadata": {},
     "output_type": "execute_result"
    }
   ],
   "source": [
    "next(iter(train_loader))"
   ]
  },
  {
   "cell_type": "markdown",
   "metadata": {
    "id": "PwTwMlx7Xq7O"
   },
   "source": [
    "**Важно:** `test_loader` нужен для того, чтобы при инференсе не перемешивать данные"
   ]
  },
  {
   "cell_type": "code",
   "execution_count": 14,
   "metadata": {
    "ExecuteTime": {
     "end_time": "2024-03-12T15:38:32.621260Z",
     "start_time": "2024-03-12T15:38:29.703352Z"
    },
    "colab": {
     "base_uri": "https://localhost:8080/",
     "height": 219,
     "referenced_widgets": [
      "c3e50fff0cc64bf48e360e028f053ca6",
      "8ee6fb26ba724f9881a7cff971abc7eb",
      "01c6ff20bc7b4e2d90134e83623cf76c",
      "2bfbfdd930c245548f738b79b92068a9",
      "f6745b4a4d89445b8578f1060796c48c",
      "9de35f9db9064eb6980a64662b5e063d",
      "157b9f1087a143c8ac58010bd2a207d3",
      "5bf1016bd02846e1baac29b348457a69",
      "e54078a5be004cd2beed7dc03a536cb4",
      "5ee12b75f37b4591859974413209ab50",
      "2bf9f6c809774cef8cba9e4c6f0d1f0e"
     ]
    },
    "executionInfo": {
     "elapsed": 6940,
     "status": "ok",
     "timestamp": 1635343006620,
     "user": {
      "displayName": "иван иванов",
      "photoUrl": "https://lh3.googleusercontent.com/a/default-user=s64",
      "userId": "02926776193083975428"
     },
     "user_tz": -180
    },
    "id": "DJWXyzqK4tW2",
    "outputId": "2fc31ea4-6202-4332-8de1-cfea7d4a0ba9"
   },
   "outputs": [
    {
     "data": {
      "application/vnd.jupyter.widget-view+json": {
       "model_id": "6697175e86f947cf99b866f10f0fbde8",
       "version_major": 2,
       "version_minor": 0
      },
      "text/plain": [
       "  0%|          | 0/50 [00:00<?, ?it/s]"
      ]
     },
     "metadata": {},
     "output_type": "display_data"
    },
    {
     "name": "stdout",
     "output_type": "stream",
     "text": [
      "After 0 epochs, training loss: 1.567498\n",
      "After 5 epochs, training loss: 1.315700\n",
      "After 10 epochs, training loss: 1.135988\n",
      "After 15 epochs, training loss: 0.982979\n",
      "After 20 epochs, training loss: 0.855382\n",
      "After 25 epochs, training loss: 0.749381\n",
      "After 30 epochs, training loss: 0.661860\n",
      "After 35 epochs, training loss: 0.589804\n",
      "After 40 epochs, training loss: 0.531092\n",
      "After 45 epochs, training loss: 0.483461\n"
     ]
    }
   ],
   "source": [
    "model, train_loss = train(autoencoder, train_loader, device=DEVICE, epochs=50)"
   ]
  },
  {
   "cell_type": "markdown",
   "metadata": {
    "id": "Y1cuTSJtKT0V"
   },
   "source": [
    "**Важно:** на [StackOverflow](https://stackoverflow.com/questions/55533116/pca-inverse-transform-in-sklearn) приведено хорошее пояснение того, как из двухмерного облака точек получается одномерная линия вследтвие выполнения `pca.inverse_transform(pca.fit_transform(dots))`, т.е. что из себя орнажевая и черная линии ниже"
   ]
  },
  {
   "cell_type": "code",
   "execution_count": 15,
   "metadata": {
    "ExecuteTime": {
     "end_time": "2024-03-12T15:38:33.622827Z",
     "start_time": "2024-03-12T15:38:33.361210Z"
    },
    "colab": {
     "base_uri": "https://localhost:8080/",
     "height": 592
    },
    "executionInfo": {
     "elapsed": 801,
     "status": "ok",
     "timestamp": 1635343007389,
     "user": {
      "displayName": "иван иванов",
      "photoUrl": "https://lh3.googleusercontent.com/a/default-user=s64",
      "userId": "02926776193083975428"
     },
     "user_tz": -180
    },
    "id": "wZhDMxkC-dF0",
    "outputId": "64deb61e-7145-4253-9a6b-d4dc91ae1504"
   },
   "outputs": [
    {
     "data": {
      "image/png": "[encoded data removed]",
      "text/plain": [
       "<Figure size 1200x1000 with 1 Axes>"
      ]
     },
     "metadata": {},
     "output_type": "display_data"
    }
   ],
   "source": [
    "# Применение линейного автоэнкодера\n",
    "res = []\n",
    "with torch.no_grad():\n",
    "    for X in test_loader:\n",
    "        batch = X[0].to(DEVICE)  # [0] is needed due to X being a list\n",
    "        reconstruction, _ = model(batch)\n",
    "        reconstruction = reconstruction.cpu()\n",
    "        res.append(reconstruction)\n",
    "pdots = torch.cat(res)\n",
    "vpdots = pdots[idxs]\n",
    "\n",
    "# Применение PCA\n",
    "from sklearn.decomposition import PCA\n",
    "pca = PCA(1)\n",
    "pdots_pca = pca.inverse_transform(pca.fit_transform(dots))\n",
    "\n",
    "# Визуализация\n",
    "plt.figure(figsize=(12, 10))\n",
    "plt.xlim([-2.5, 2.5])\n",
    "plt.scatter(dots[:, 0], dots[:, 1], zorder=1)\n",
    "plt.plot(x1, fx,  color=\"red\", linewidth=4, zorder=10)\n",
    "plt.plot(pdots[:,0], pdots[:,1], color='black', linewidth=12, zorder=3)\n",
    "plt.plot(pdots_pca[:,0], pdots_pca[:,1], color='orange', linewidth=4, zorder=4)\n",
    "plt.scatter(vpdots[:,0], vpdots[:,1], color=colors*5, marker='*', s=150, zorder=5)\n",
    "plt.scatter(vdots[:,0], vdots[:,1], color=colors*5, s=150, zorder=6)\n",
    "plt.grid(False)"
   ]
  },
  {
   "cell_type": "markdown",
   "metadata": {
    "id": "vh6zWSI1rRlr"
   },
   "source": [
    "Мы видим, что достаточно простое многообразие мы нашли. Добавим слоев."
   ]
  },
  {
   "cell_type": "code",
   "execution_count": 16,
   "metadata": {
    "ExecuteTime": {
     "end_time": "2024-03-12T15:38:36.706548Z",
     "start_time": "2024-03-12T15:38:36.702952Z"
    },
    "executionInfo": {
     "elapsed": 464,
     "status": "ok",
     "timestamp": 1635343007848,
     "user": {
      "displayName": "иван иванов",
      "photoUrl": "https://lh3.googleusercontent.com/a/default-user=s64",
      "userId": "02926776193083975428"
     },
     "user_tz": -180
    },
    "id": "9u0ERid3MM4B"
   },
   "outputs": [],
   "source": [
    "class DeepAutoencoder(nn.Module):\n",
    "\n",
    "    def __init__(self, inp_shape, code_size=1):\n",
    "        \"\"\"\n",
    "        code_size это размерность кодированного представления (фичей на выходе)\n",
    "        \"\"\"\n",
    "        super().__init__()\n",
    "\n",
    "        #  давайтес сделаем больше слоев\n",
    "        self.encoder = torch.nn.Sequential(\n",
    "            torch.nn.Linear(inp_shape, 2 * inp_shape),\n",
    "            torch.nn.ReLU(),\n",
    "            torch.nn.Linear(2 * inp_shape, 2 * inp_shape),\n",
    "            torch.nn.ReLU(),\n",
    "            torch.nn.Linear(2 * inp_shape, code_size)\n",
    "        )\n",
    "        \n",
    "        self.decoder = torch.nn.Sequential(\n",
    "            torch.nn.Linear(code_size, 2 * inp_shape),\n",
    "            torch.nn.ReLU(),\n",
    "            torch.nn.Linear(2 * inp_shape, 2 * inp_shape),\n",
    "            torch.nn.ReLU(),\n",
    "            torch.nn.Linear(2 * inp_shape, inp_shape)\n",
    "        )\n",
    "        \n",
    "    def forward(self, x):\n",
    "        # а должно что-то поменяться с прошлого шага?\n",
    "        latent_code = self.encoder(x)\n",
    "        reconstruction = self.decoder(latent_code)\n",
    "        \n",
    "        return reconstruction, latent_code"
   ]
  },
  {
   "cell_type": "code",
   "execution_count": 17,
   "metadata": {
    "ExecuteTime": {
     "end_time": "2024-03-12T15:38:39.754303Z",
     "start_time": "2024-03-12T15:38:37.454898Z"
    },
    "colab": {
     "base_uri": "https://localhost:8080/",
     "height": 151,
     "referenced_widgets": [
      "20dae883b028484c95315ecc4d5ef23f",
      "cb5fa86e3e7348259a8c9c230709c330",
      "8e1fe28114b14485a30e83cf6cf66d74",
      "b508d834ab10481b9ba19be1ffec5e09",
      "1ca71f503a434d529948315eb0f06037",
      "7fa1a5f1bc104e3a891dda7e08c7ede4",
      "bd101a6e13304810a3c83b0406a8a799",
      "cb9f6959ba8e4e2e814181925097e666",
      "ee60f1b30c8d4d0eb32250260d2ef4f8",
      "6c9aeeb7e4174d408ce6c0bdeeffe279",
      "e4def912296e4381a52f8cb175f65951"
     ]
    },
    "executionInfo": {
     "elapsed": 4963,
     "status": "ok",
     "timestamp": 1635343012801,
     "user": {
      "displayName": "иван иванов",
      "photoUrl": "https://lh3.googleusercontent.com/a/default-user=s64",
      "userId": "02926776193083975428"
     },
     "user_tz": -180
    },
    "id": "Z4zF6mA5MrPn",
    "outputId": "22d55578-5489-48d5-984f-0a8f7650cabd"
   },
   "outputs": [
    {
     "data": {
      "application/vnd.jupyter.widget-view+json": {
       "model_id": "406fc96a9bcc4dc3b3a9875290572b18",
       "version_major": 2,
       "version_minor": 0
      },
      "text/plain": [
       "  0%|          | 0/30 [00:00<?, ?it/s]"
      ]
     },
     "metadata": {},
     "output_type": "display_data"
    },
    {
     "name": "stdout",
     "output_type": "stream",
     "text": [
      "After 0 epochs, training loss: 1.173203\n",
      "After 5 epochs, training loss: 0.342577\n",
      "After 10 epochs, training loss: 0.204695\n",
      "After 15 epochs, training loss: 0.144637\n",
      "After 20 epochs, training loss: 0.111903\n",
      "After 25 epochs, training loss: 0.091535\n"
     ]
    }
   ],
   "source": [
    "# Create MSE loss function\n",
    "criterion = torch.nn.MSELoss()\n",
    "\n",
    "deep_autoencoder = DeepAutoencoder(input_shape, code_size=1)\n",
    "deep_autoencoder.to(DEVICE)\n",
    "\n",
    "# Use Adam optimizer\n",
    "optimizer = optim.Adam(deep_autoencoder.parameters(), lr=1e-2)\n",
    "\n",
    "deep_model, train_loss = train(deep_autoencoder, \n",
    "                                train_loader, \n",
    "                                device=DEVICE, epochs=30)"
   ]
  },
  {
   "cell_type": "code",
   "execution_count": 18,
   "metadata": {
    "ExecuteTime": {
     "end_time": "2024-03-12T15:38:40.442842Z",
     "start_time": "2024-03-12T15:38:40.256726Z"
    },
    "colab": {
     "base_uri": "https://localhost:8080/",
     "height": 592
    },
    "executionInfo": {
     "elapsed": 904,
     "status": "ok",
     "timestamp": 1635343013689,
     "user": {
      "displayName": "иван иванов",
      "photoUrl": "https://lh3.googleusercontent.com/a/default-user=s64",
      "userId": "02926776193083975428"
     },
     "user_tz": -180
    },
    "id": "LprubZ71rRlu",
    "outputId": "0412fc9d-611a-4379-9115-683dfe7a3038"
   },
   "outputs": [
    {
     "data": {
      "image/png": "[encoded data removed]",
      "text/plain": [
       "<Figure size 1200x1000 with 1 Axes>"
      ]
     },
     "metadata": {},
     "output_type": "display_data"
    }
   ],
   "source": [
    "res = []\n",
    "with torch.no_grad():\n",
    "    for X in test_loader:\n",
    "        batch = X[0].to(DEVICE)  # [0] is needed due to X being a list\n",
    "        reconstruction, _ = deep_model(batch)\n",
    "        reconstruction = reconstruction.cpu()\n",
    "        res.append(reconstruction)\n",
    "pdots_deep = torch.cat(res)\n",
    "vpdots_deep = pdots_deep[idxs]\n",
    "\n",
    "# Визуализация\n",
    "plt.figure(figsize=(12, 10))\n",
    "plt.xlim([-2.5, 2.5])\n",
    "plt.scatter(dots[:, 0], dots[:, 1], zorder=1)\n",
    "plt.plot(x1, fx,  color=\"red\", linewidth=4, zorder=10)\n",
    "plt.plot(pdots_deep[:,0], pdots_deep[:,1], color='black', linewidth=12, zorder=3)\n",
    "plt.plot(pdots_pca[:,0], pdots_pca[:,1], color='orange', linewidth=4, zorder=4)\n",
    "plt.scatter(vpdots_deep[:,0], vpdots_deep[:,1], color=colors*5, marker='*', s=150, zorder=5)\n",
    "plt.scatter(vdots[:,0], vdots[:,1], color=colors*5, s=150, zorder=6)\n",
    "plt.grid(False)"
   ]
  },
  {
   "cell_type": "markdown",
   "metadata": {
    "id": "lGOFNy61Ycf3"
   },
   "source": [
    "У такого автоэнкодера практически идеально получилось построить определяющее многообразие: черная кривая почти совпадает с красной.\n",
    "\n",
    "Глубокий автоэнкодер теоретически сможет найти многообразие произвольной сложности, например, такое, около которого лежат цифры в 784-мерном пространстве.\n"
   ]
  },
  {
   "cell_type": "markdown",
   "metadata": {
    "id": "pZv5yjgxrRlu"
   },
   "source": [
    "Все же у достаточно сложного автоэнкодера есть возможность переобучиться. Продемонстрируем это!\n",
    "Мы берем и показываем одни и теже точки автоэнкодеру множество раз."
   ]
  },
  {
   "cell_type": "code",
   "execution_count": 19,
   "metadata": {
    "ExecuteTime": {
     "end_time": "2024-03-12T15:38:45.081197Z",
     "start_time": "2024-03-12T15:38:45.076214Z"
    },
    "executionInfo": {
     "elapsed": 16,
     "status": "ok",
     "timestamp": 1635343013691,
     "user": {
      "displayName": "иван иванов",
      "photoUrl": "https://lh3.googleusercontent.com/a/default-user=s64",
      "userId": "02926776193083975428"
     },
     "user_tz": -180
    },
    "id": "9te4CUnXrRlv"
   },
   "outputs": [],
   "source": [
    "dots_oft = np.vstack([dots[idxs]]*4000)\n",
    "\n",
    "X_train_oft = torch.tensor(dots_oft, dtype=torch.float32)\n",
    "X_test_oft = torch.tensor(dots[idxs], dtype=torch.float32)  # важно: в тесте только выбранные точки без повторений\n",
    "dataset_train_oft = TensorDataset(X_train_oft)\n",
    "dataset_test_oft = TensorDataset(X_test_oft)\n",
    "\n",
    "BATCH_SIZE = 32\n",
    "\n",
    "train_loader_oft = DataLoader(dataset_train_oft, batch_size=BATCH_SIZE, shuffle=True, num_workers=1)\n",
    "test_loader_oft = DataLoader(dataset_test_oft, batch_size=BATCH_SIZE, shuffle=False, num_workers=1)"
   ]
  },
  {
   "cell_type": "code",
   "execution_count": 20,
   "metadata": {
    "ExecuteTime": {
     "end_time": "2024-03-12T15:43:30.377906Z",
     "start_time": "2024-03-12T15:38:46.163546Z"
    },
    "colab": {
     "base_uri": "https://localhost:8080/",
     "height": 219,
     "referenced_widgets": [
      "a7610fc67e89458cb23df7af70af6a5e",
      "062cbde621c74c9d92ec93a9773f30ad",
      "7a6e894062f64d97bd6a1c0ca82d8de0",
      "25a75505829045dfaa836e16f7c2fbfd",
      "8a38991e8cac424c9facbdf22fa2ee0f",
      "53c112912b0746e381d575bbfe21d92b",
      "7408adde0315447bb880798ae382f5db",
      "a616e09ba0f54cd588fc9ad92e71149b",
      "7cdef913d7584666b59e6eef47363506",
      "8cc96e35097043d6b55d1fc8746492e5",
      "d4ab7ef90da74b0dbf1892db1d6c5436"
     ]
    },
    "executionInfo": {
     "elapsed": 397821,
     "status": "ok",
     "timestamp": 1635344097695,
     "user": {
      "displayName": "иван иванов",
      "photoUrl": "https://lh3.googleusercontent.com/a/default-user=s64",
      "userId": "02926776193083975428"
     },
     "user_tz": -180
    },
    "id": "BVpiynF2Yng6",
    "outputId": "5f5fcd93-f3e0-42c8-d1e6-e6b149862338"
   },
   "outputs": [
    {
     "data": {
      "application/vnd.jupyter.widget-view+json": {
       "model_id": "fb8f77dfc05c4228ab2f8fd681d6edf1",
       "version_major": 2,
       "version_minor": 0
      },
      "text/plain": [
       "  0%|          | 0/50 [00:00<?, ?it/s]"
      ]
     },
     "metadata": {},
     "output_type": "display_data"
    },
    {
     "name": "stdout",
     "output_type": "stream",
     "text": [
      "After 0 epochs, training loss: 0.721071\n",
      "After 5 epochs, training loss: 0.135034\n",
      "After 10 epochs, training loss: 0.074743\n",
      "After 15 epochs, training loss: 0.052001\n",
      "After 20 epochs, training loss: 0.040084\n",
      "After 25 epochs, training loss: 0.032750\n",
      "After 30 epochs, training loss: 0.027781\n",
      "After 35 epochs, training loss: 0.024192\n",
      "After 40 epochs, training loss: 0.021478\n",
      "After 45 epochs, training loss: 0.019354\n"
     ]
    }
   ],
   "source": [
    "# Create MSE loss function\n",
    "criterion = torch.nn.MSELoss()\n",
    "\n",
    "deep_autoencoder = DeepAutoencoder(input_shape, code_size=1)\n",
    "deep_autoencoder.to('cuda')\n",
    "\n",
    "# Use Adam optimizer\n",
    "optimizer = optim.Adam(deep_autoencoder.parameters(), lr=3e-4)\n",
    "\n",
    "overfit_model, train_loss = train(deep_autoencoder, \n",
    "                                  train_loader_oft, \n",
    "                                  device='cuda', epochs=50)"
   ]
  },
  {
   "cell_type": "code",
   "execution_count": 23,
   "metadata": {
    "ExecuteTime": {
     "end_time": "2024-03-12T15:43:57.588642Z",
     "start_time": "2024-03-12T15:43:57.425446Z"
    },
    "colab": {
     "base_uri": "https://localhost:8080/",
     "height": 592
    },
    "executionInfo": {
     "elapsed": 993,
     "status": "ok",
     "timestamp": 1635344118651,
     "user": {
      "displayName": "иван иванов",
      "photoUrl": "https://lh3.googleusercontent.com/a/default-user=s64",
      "userId": "02926776193083975428"
     },
     "user_tz": -180
    },
    "id": "xHDIHG26rRlv",
    "outputId": "562f1e84-333f-4a07-811b-521033e8d87d"
   },
   "outputs": [
    {
     "data": {
      "image/png": "[encoded data removed]",
      "text/plain": [
       "<Figure size 1200x1000 with 1 Axes>"
      ]
     },
     "metadata": {},
     "output_type": "display_data"
    }
   ],
   "source": [
    "res = []\n",
    "with torch.no_grad():\n",
    "    for X in test_loader_oft:\n",
    "        batch = X[0].to('cuda')  # [0] is needed due to X being a list\n",
    "        reconstruction, _ = overfit_model(batch)\n",
    "        res.append(reconstruction)\n",
    "pdots_deep_oft = torch.cat(res).cpu()\n",
    "\n",
    "# Визуализация\n",
    "plt.figure(figsize=(12, 10))\n",
    "plt.xlim([-2.5, 2.5])\n",
    "plt.scatter(dots[:, 0], dots[:, 1], zorder=1)\n",
    "plt.plot(x1, fx,  color=\"red\", linewidth=4, zorder=10)\n",
    "plt.plot(pdots_deep_oft[:, 0], pdots_deep_oft[:, 1], color='black', linewidth=5, zorder=3)\n",
    "plt.plot(pdots_pca[:,0], pdots_pca[:,1], color='orange', linewidth=4, zorder=4)\n",
    "plt.scatter(vdots[:,0], vdots[:,1], color=colors*5, s=150, zorder=6)\n",
    "plt.grid(False)"
   ]
  },
  {
   "cell_type": "markdown",
   "metadata": {
    "id": "ISO283_yrRlw"
   },
   "source": [
    "Мы видим, что наша линия проходит через конкретные точки, и очень плохо описывает правильное многообразие."
   ]
  },
  {
   "cell_type": "markdown",
   "metadata": {
    "id": "dmi_RqLHrRlw"
   },
   "source": [
    "В теории мы можем апроксимизировать какое угодно распределение.\n",
    "Мы стремимся найти такое латентное пространство, \n",
    "где мы небольшие сдвиги в латентных переменных все равно остаются в том же классе.  \n",
    "\n",
    "**Важная мысль:** если взять два объекта и посмотреть на объекты, лежащие на произвольной кривой между ними, то скорее всего промежуточные объекты не будут принадлежать генеральной совокупности, т. к. многообразие на котором лежит генеральная совокупность может быть сильно искривленным и малоразмерным."
   ]
  },
  {
   "cell_type": "code",
   "execution_count": 24,
   "metadata": {
    "ExecuteTime": {
     "end_time": "2024-03-12T15:44:05.803763Z",
     "start_time": "2024-03-12T15:44:05.670209Z"
    },
    "colab": {
     "base_uri": "https://localhost:8080/",
     "height": 471,
     "referenced_widgets": [
      "5b61825877f747bb87e70f6f9241d6ed",
      "e29d9c5ddcb748b8b71fd73bcad67bd3",
      "2d9cc691757f4459b7826f791e1ffc76",
      "bc19c00f043a422781086fd2d506396a",
      "82a77083df5a408c8cea5e3b94c282ae",
      "99716b5c34ed4c8692bed5afe1338c79",
      "6898adc9285744e4939407eeebb27463",
      "adb7d0e4c54b4693999f295d75e751fd",
      "eabf354e36d14984afa125ffeb979ded",
      "e2aacba07a9e4d25970a965c1fcfddaa",
      "1dda865912e04299b7d5c3baede7fc6f",
      "6a0c0d532d0f443986305ac3b8bd485b",
      "efb8a93c719a4800b87e7502bd2b77ea",
      "5b00232af23b4166b1d964e144d0277c",
      "2fe167e6ec514e0dbcc844529bd8f204",
      "65fbca3956144d96997e272b3aacf021",
      "888f239524b64189a47343777b6d9b7d",
      "01e78aa2b29b4cc2aeeec4abddc19c25",
      "87cb64ef9b94490d9601d2cea37d615c",
      "98f3aec5f42d4e21a50530b885052583",
      "9006dba2e95041259a29e09d90d2bd7b",
      "6b142f3e67c741b59406762f6ce4c05c",
      "d4508bb7e3024255a3678bf5ec830d02",
      "697666a89bc94ac6b57ff313be5ea03d",
      "11f8c9eb919a4ee38d58a0453d34a5a5",
      "e6d8ea3dd0e240c999515ea0a4674c88",
      "9fc69d3858a8423aaba96dcfa85c188c",
      "45f21c65ff3f4bb4a7ae333107431db3",
      "23cfc7a0844e44ad8563df2a96188e2e",
      "605968951c4a4a3fbf6c62145898887f",
      "8bb4cd75812e479ba392a46bff06d82b",
      "8a453da457fa44469b6d52e5a8cf5e2a",
      "62cd4bec580741bdb1b25d044564e503",
      "b33f666408114ae7a76a91847d9e6c3f",
      "e95b0c79232c4d38865a88622749a18a",
      "6eb5250778a54701bc5be5e9d2465ac0",
      "3bb39eb9915343f99d33e0e09843d8bc",
      "c2f31ecc007e434cb83d7e995d2d934a",
      "8ea0da67b3f04b7a8f4ff114d79c760b",
      "465b907a1199441da21381ea9366efba",
      "c58493e3d9d642a9920706a57c890b0b",
      "b3adfcf33c314c6ca05c9885178af4f2",
      "ec82265ee2e8400e96e566f975a15a31",
      "2bbe082104f24b98b5ef120b81eef2ee"
     ]
    },
    "executionInfo": {
     "elapsed": 2133,
     "status": "ok",
     "timestamp": 1635344990582,
     "user": {
      "displayName": "иван иванов",
      "photoUrl": "https://lh3.googleusercontent.com/a/default-user=s64",
      "userId": "02926776193083975428"
     },
     "user_tz": -180
    },
    "id": "_delM-Q2t4G7",
    "outputId": "c87e3eb6-9701-4f4e-82b0-bf21f1e17e3d"
   },
   "outputs": [],
   "source": [
    "from torchvision import datasets\n",
    "from torchvision.transforms import ToTensor\n",
    "\n",
    "train_data = datasets.MNIST(\n",
    "    root = 'data',\n",
    "    train = True,                         \n",
    "    transform = ToTensor(), \n",
    "    download = True,            \n",
    ")\n",
    "test_data = datasets.MNIST(\n",
    "    root = 'data', \n",
    "    train = False, \n",
    "    transform = ToTensor()\n",
    ")"
   ]
  },
  {
   "cell_type": "code",
   "execution_count": 25,
   "metadata": {
    "ExecuteTime": {
     "end_time": "2024-03-12T15:44:05.896423Z",
     "start_time": "2024-03-12T15:44:05.874664Z"
    },
    "colab": {
     "base_uri": "https://localhost:8080/"
    },
    "executionInfo": {
     "elapsed": 378,
     "status": "ok",
     "timestamp": 1635344994584,
     "user": {
      "displayName": "иван иванов",
      "photoUrl": "https://lh3.googleusercontent.com/a/default-user=s64",
      "userId": "02926776193083975428"
     },
     "user_tz": -180
    },
    "id": "jGUPv8ULGyEU",
    "outputId": "39969a7d-17f0-45d7-a3b6-cbe7eb58d6bc"
   },
   "outputs": [
    {
     "name": "stderr",
     "output_type": "stream",
     "text": [
      "/tmp/ipykernel_207317/2959893525.py:4: UserWarning: To copy construct from a tensor, it is recommended to use sourceTensor.clone().detach() or sourceTensor.clone().detach().requires_grad_(True), rather than torch.tensor(sourceTensor).\n",
      "  X_train = torch.tensor(train_data, dtype=torch.float32)\n",
      "/tmp/ipykernel_207317/2959893525.py:5: UserWarning: To copy construct from a tensor, it is recommended to use sourceTensor.clone().detach() or sourceTensor.clone().detach().requires_grad_(True), rather than torch.tensor(sourceTensor).\n",
      "  X_test = torch.tensor(test_data, dtype=torch.float32)\n"
     ]
    }
   ],
   "source": [
    "train_data = train_data.data[:, None, :, :]\n",
    "test_data = test_data.data[:, None, :, :]\n",
    "\n",
    "X_train = torch.tensor(train_data, dtype=torch.float32)\n",
    "X_test = torch.tensor(test_data, dtype=torch.float32)\n",
    "\n",
    "dataset_train = TensorDataset(X_train)\n",
    "dataset_test = TensorDataset(X_test)\n",
    "\n",
    "loaders = {\n",
    "    'train' : torch.utils.data.DataLoader(dataset_train, \n",
    "                                          batch_size=256, \n",
    "                                          shuffle=True, \n",
    "                                          num_workers=1),\n",
    "    \n",
    "    'test'  : torch.utils.data.DataLoader(dataset_test, \n",
    "                                          batch_size=256, \n",
    "                                          shuffle=False, \n",
    "                                          num_workers=1),\n",
    "}"
   ]
  },
  {
   "cell_type": "code",
   "execution_count": 26,
   "metadata": {
    "ExecuteTime": {
     "end_time": "2024-03-12T15:44:06.704050Z",
     "start_time": "2024-03-12T15:44:06.700120Z"
    },
    "executionInfo": {
     "elapsed": 274,
     "status": "ok",
     "timestamp": 1635344999757,
     "user": {
      "displayName": "иван иванов",
      "photoUrl": "https://lh3.googleusercontent.com/a/default-user=s64",
      "userId": "02926776193083975428"
     },
     "user_tz": -180
    },
    "id": "EyhIUW3AwIHB"
   },
   "outputs": [],
   "source": [
    "# Сверточный автоэнкодер\n",
    "class ConvAutoencoder(nn.Module):\n",
    "\n",
    "    def __init__(self):\n",
    "        \"\"\"\n",
    "        code_size это размерность кодированного представления (фичей на выходе)\n",
    "        \"\"\"\n",
    "        super().__init__()\n",
    "\n",
    "        # input is (1 x 28 x 28)\n",
    "        self.encoder = nn.Sequential(nn.Conv2d(1, 128, kernel_size=(7, 7), padding=3),  # 128x28x28\n",
    "                                     nn.ReLU(),\n",
    "                                     nn.MaxPool2d(kernel_size=(2, 2), padding=1),       # 128x14x14\n",
    "                                     nn.Conv2d(128, 32, kernel_size=(3, 3), padding=1), # 32x14x14\n",
    "                                     nn.ReLU(),\n",
    "                                     nn.MaxPool2d(kernel_size=(2, 2)),                  # 32x7x7\n",
    "                                     nn.Conv2d(32, 1, kernel_size=(7, 7), padding=3)    # 1x7x7\n",
    "                                     )\n",
    "        # На этом моменте представление  (1, 7, 7) т.е. 49-размерное\n",
    "\n",
    "        self.decoder = nn.Sequential(nn.Conv2d(1, 32, kernel_size=(7, 7), padding=3),   # 32x7x7\n",
    "                                     nn.Upsample(scale_factor=2, mode='nearest'),   # 32x14x14\n",
    "                                     nn.Conv2d(32, 128, kernel_size=(3, 3), padding=1), # 128x14x14\n",
    "                                     nn.Upsample(scale_factor=2, mode='nearest'),   # 128x28x28\n",
    "                                     nn.Conv2d(128, 1, kernel_size=(7, 7), padding=3)   # 1x28x28\n",
    "                                     )\n",
    "        # Вернулись к исходной размерности  (1, 28, 28) т.е. 784-размерное\n",
    "\n",
    "    def forward(self, x):\n",
    "        latent_code = self.encoder(x)\n",
    "        reconstruction = self.decoder(latent_code)\n",
    "        \n",
    "        return reconstruction, latent_code"
   ]
  },
  {
   "cell_type": "code",
   "execution_count": 27,
   "metadata": {
    "ExecuteTime": {
     "end_time": "2024-03-12T15:44:07.433413Z",
     "start_time": "2024-03-12T15:44:07.396998Z"
    }
   },
   "outputs": [
    {
     "data": {
      "text/plain": [
       "torch.Size([256, 1, 28, 28])"
      ]
     },
     "execution_count": 27,
     "metadata": {},
     "output_type": "execute_result"
    }
   ],
   "source": [
    "next(iter(loaders['train']))[0].shape"
   ]
  },
  {
   "cell_type": "code",
   "execution_count": 28,
   "metadata": {
    "ExecuteTime": {
     "end_time": "2024-03-12T15:45:59.615550Z",
     "start_time": "2024-03-12T15:44:11.086587Z"
    },
    "colab": {
     "base_uri": "https://localhost:8080/",
     "height": 219,
     "referenced_widgets": [
      "9859143310b349a587f7a4fd75eb3708",
      "4207246690bf4ec1a1a4024315525453",
      "3c0d79bb5d70462397c990ae7c586db1",
      "af740a58d6274bdc9285c3125fa8299c",
      "12643e97e56d4dd8b3b4cbc2410262e8",
      "fa2c9dcb1fd048a0b321042b527e65ef",
      "2f56f8e2582a4ef4bb8885bbb8efde61",
      "a675748767ba4733b3988fb1c23701f0",
      "263c21d7aa9d4d2cb684682384e38fd8",
      "1b6801642cfe414dbce5cc321ca7bd71",
      "235e8ada3a7b4b33b41e60241df27885"
     ]
    },
    "executionInfo": {
     "elapsed": 1325261,
     "status": "ok",
     "timestamp": 1635349186291,
     "user": {
      "displayName": "иван иванов",
      "photoUrl": "https://lh3.googleusercontent.com/a/default-user=s64",
      "userId": "02926776193083975428"
     },
     "user_tz": -180
    },
    "id": "jVCGx3ChFX4r",
    "outputId": "2c10104d-3821-46d2-bcb2-bee4e421a7ea"
   },
   "outputs": [
    {
     "data": {
      "application/vnd.jupyter.widget-view+json": {
       "model_id": "8dd957bd6f024a4486eb149d9d3310f9",
       "version_major": 2,
       "version_minor": 0
      },
      "text/plain": [
       "  0%|          | 0/50 [00:00<?, ?it/s]"
      ]
     },
     "metadata": {},
     "output_type": "display_data"
    },
    {
     "name": "stdout",
     "output_type": "stream",
     "text": [
      "After 0 epochs, training loss: 2523.058594\n",
      "After 5 epochs, training loss: 1639.428345\n",
      "After 10 epochs, training loss: 1493.868408\n",
      "After 15 epochs, training loss: 1425.438110\n",
      "After 20 epochs, training loss: 1383.357300\n",
      "After 25 epochs, training loss: 1354.162598\n",
      "After 30 epochs, training loss: 1332.367554\n",
      "After 35 epochs, training loss: 1315.308838\n",
      "After 40 epochs, training loss: 1301.384399\n",
      "After 45 epochs, training loss: 1289.766724\n"
     ]
    }
   ],
   "source": [
    "# Create MSE loss function\n",
    "criterion = torch.nn.MSELoss()\n",
    "\n",
    "conv_autoencoder = ConvAutoencoder()\n",
    "conv_autoencoder.to(DEVICE)\n",
    "\n",
    "# Use Adam optimizer\n",
    "optimizer = optim.Adam(conv_autoencoder.parameters(), lr=3e-4)\n",
    "\n",
    "conv_model, train_loss = train(conv_autoencoder, \n",
    "                                loaders['train'], \n",
    "                                device=DEVICE, epochs=50)"
   ]
  },
  {
   "cell_type": "code",
   "execution_count": 29,
   "metadata": {
    "ExecuteTime": {
     "end_time": "2024-03-12T15:47:46.381907Z",
     "start_time": "2024-03-12T15:47:46.377983Z"
    },
    "executionInfo": {
     "elapsed": 212,
     "status": "ok",
     "timestamp": 1635349227731,
     "user": {
      "displayName": "иван иванов",
      "photoUrl": "https://lh3.googleusercontent.com/a/default-user=s64",
      "userId": "02926776193083975428"
     },
     "user_tz": -180
    },
    "id": "UVA_1k5xrRlx"
   },
   "outputs": [],
   "source": [
    "def plot_digits(args):\n",
    "    n = min([x.shape[0] for x in args])\n",
    "    \n",
    "    plt.figure(figsize=(40, 60))\n",
    "    for j in range(n):\n",
    "        for i in range(len(args)):\n",
    "            plt.subplot(n, len(args), i*n + j + 1)\n",
    "            plt.imshow(args[i][j])\n",
    "            plt.gray()\n",
    "\n",
    "    plt.show()\n",
    "\n",
    "# Гомотопия по прямой между объектами или между кодами\n",
    "def plot_homotopy(frm, to, n=10, decode=False, model=conv_model, device=DEVICE):\n",
    "    z = []\n",
    "    for i, t in enumerate(np.linspace(0., 1., n)):\n",
    "        z.append(frm * (1-t) + to * t)\n",
    "    if decode:\n",
    "        with torch.no_grad():\n",
    "            z = [elem[None, :, :, :].to(device) for elem in z]\n",
    "            z = torch.cat(z)\n",
    "            reconstruction = model.decoder(z)\n",
    "            reconstruction = reconstruction.cpu()\n",
    "        plot_digits(reconstruction)\n",
    "    else:\n",
    "        plot_digits(z)"
   ]
  },
  {
   "cell_type": "code",
   "execution_count": 30,
   "metadata": {
    "ExecuteTime": {
     "end_time": "2024-03-12T15:47:47.642429Z",
     "start_time": "2024-03-12T15:47:47.037345Z"
    },
    "colab": {
     "base_uri": "https://localhost:8080/",
     "height": 146
    },
    "executionInfo": {
     "elapsed": 1871,
     "status": "ok",
     "timestamp": 1635349193642,
     "user": {
      "displayName": "иван иванов",
      "photoUrl": "https://lh3.googleusercontent.com/a/default-user=s64",
      "userId": "02926776193083975428"
     },
     "user_tz": -180
    },
    "id": "2QqBC_f-ZyXR",
    "outputId": "bb22fee3-9d1c-4069-a3cf-738e9825799e"
   },
   "outputs": [
    {
     "data": {
      "image/png": "[encoded data removed]",
      "text/plain": [
       "<Figure size 4000x6000 with 10 Axes>"
      ]
     },
     "metadata": {},
     "output_type": "display_data"
    }
   ],
   "source": [
    "# Гомотопия между первыми двумя восьмерками\n",
    "\n",
    "# 61 и 84 выбраны не случайно, под такими индексами в тестовых данных хранятся восьмерки\n",
    "\n",
    "frm = dataset_test[61][0]\n",
    "to = dataset_test[84][0]\n",
    "plot_homotopy(frm, to)"
   ]
  },
  {
   "cell_type": "markdown",
   "metadata": {
    "id": "h4lP6cDBrRlz"
   },
   "source": [
    "Если наше латентное пространтсво корректное, мы нашли правильно параметаризованное латентное пространство, \n",
    "то небольшие сдвиги в этом пространстве должны давать разумные результаты: \n",
    "\n",
    "**Можно сказать то же самое, но завернуть это более витиевато:** Если же двигаться по кривой между кодами (и если многообразие кодов хорошо параметризовано), то декодер переведет эту кривую из пространства кодов, в кривую, не покидающую определяющее многообразие в пространстве объектов. То есть промежуточные объекты на кривой будут принадлежать генеральной совокупности."
   ]
  },
  {
   "cell_type": "code",
   "execution_count": 31,
   "metadata": {
    "ExecuteTime": {
     "end_time": "2024-03-12T15:47:49.111318Z",
     "start_time": "2024-03-12T15:47:49.091690Z"
    },
    "colab": {
     "base_uri": "https://localhost:8080/"
    },
    "executionInfo": {
     "elapsed": 313,
     "status": "ok",
     "timestamp": 1635349208927,
     "user": {
      "displayName": "иван иванов",
      "photoUrl": "https://lh3.googleusercontent.com/a/default-user=s64",
      "userId": "02926776193083975428"
     },
     "user_tz": -180
    },
    "id": "JQ7BLsOITDDm",
    "outputId": "ab397bb5-f072-47b0-a9e3-8eed78c7ed24"
   },
   "outputs": [
    {
     "data": {
      "text/plain": [
       "torch.Size([1, 1, 7, 7])"
      ]
     },
     "execution_count": 31,
     "metadata": {},
     "output_type": "execute_result"
    }
   ],
   "source": [
    "conv_model.encoder(frm[None, :, :, :].to(DEVICE)).shape"
   ]
  },
  {
   "cell_type": "code",
   "execution_count": 32,
   "metadata": {
    "ExecuteTime": {
     "end_time": "2024-03-12T15:47:50.315480Z",
     "start_time": "2024-03-12T15:47:49.725291Z"
    },
    "colab": {
     "base_uri": "https://localhost:8080/",
     "height": 146
    },
    "executionInfo": {
     "elapsed": 1720,
     "status": "ok",
     "timestamp": 1635349235951,
     "user": {
      "displayName": "иван иванов",
      "photoUrl": "https://lh3.googleusercontent.com/a/default-user=s64",
      "userId": "02926776193083975428"
     },
     "user_tz": -180
    },
    "id": "wvX2SXY7Z33M",
    "outputId": "3eb99573-b519-4c40-ebdb-7517a2f6369c"
   },
   "outputs": [
    {
     "data": {
      "image/png": "[encoded data removed]",
      "text/plain": [
       "<Figure size 4000x6000 with 10 Axes>"
      ]
     },
     "metadata": {},
     "output_type": "display_data"
    }
   ],
   "source": [
    "frm = dataset_test[61][0]\n",
    "to = dataset_test[84][0]\n",
    "\n",
    "with torch.no_grad():\n",
    "    frm_enc = conv_model.encoder(frm[None, :, :, :].to(DEVICE))\n",
    "    to_enc = conv_model.encoder(to[None, :, :, :].to(DEVICE))\n",
    "    codes = torch.cat([frm_enc, to_enc])\n",
    "\n",
    "plot_homotopy(codes[0], codes[1], n=10, decode=True)"
   ]
  }
 ],
 "metadata": {
  "accelerator": "GPU",
  "colab": {
   "collapsed_sections": [],
   "name": "Manifold_learning_PyTorch.ipynb",
   "provenance": []
  },
  "kernelspec": {
   "display_name": "Python 3 (ipykernel)",
   "language": "python",
   "name": "python3"
  },
  "language_info": {
   "codemirror_mode": {
    "name": "ipython",
    "version": 3
   },
   "file_extension": ".py",
   "mimetype": "text/x-python",
   "name": "python",
   "nbconvert_exporter": "python",
   "pygments_lexer": "ipython3",
   "version": "3.10.12"
  },
  "widgets": {
   "application/vnd.jupyter.widget-state+json": {
    "01c6ff20bc7b4e2d90134e83623cf76c": {
     "model_module": "@jupyter-widgets/controls",
     "model_module_version": "1.5.0",
     "model_name": "HTMLModel",
     "state": {
      "_dom_classes": [],
      "_model_module": "@jupyter-widgets/controls",
      "_model_module_version": "1.5.0",
      "_model_name": "HTMLModel",
      "_view_count": null,
      "_view_module": "@jupyter-widgets/controls",
      "_view_module_version": "1.5.0",
      "_view_name": "HTMLView",
      "description": "",
      "description_tooltip": null,
      "layout": "IPY_MODEL_157b9f1087a143c8ac58010bd2a207d3",
      "placeholder": "​",
      "style": "IPY_MODEL_9de35f9db9064eb6980a64662b5e063d",
      "value": "100%"
     }
    },
    "01e78aa2b29b4cc2aeeec4abddc19c25": {
     "model_module": "@jupyter-widgets/base",
     "model_module_version": "1.2.0",
     "model_name": "LayoutModel",
     "state": {
      "_model_module": "@jupyter-widgets/base",
      "_model_module_version": "1.2.0",
      "_model_name": "LayoutModel",
      "_view_count": null,
      "_view_module": "@jupyter-widgets/base",
      "_view_module_version": "1.2.0",
      "_view_name": "LayoutView",
      "align_content": null,
      "align_items": null,
      "align_self": null,
      "border": null,
      "bottom": null,
      "display": null,
      "flex": null,
      "flex_flow": null,
      "grid_area": null,
      "grid_auto_columns": null,
      "grid_auto_flow": null,
      "grid_auto_rows": null,
      "grid_column": null,
      "grid_gap": null,
      "grid_row": null,
      "grid_template_areas": null,
      "grid_template_columns": null,
      "grid_template_rows": null,
      "height": null,
      "justify_content": null,
      "justify_items": null,
      "left": null,
      "margin": null,
      "max_height": null,
      "max_width": null,
      "min_height": null,
      "min_width": null,
      "object_fit": null,
      "object_position": null,
      "order": null,
      "overflow": null,
      "overflow_x": null,
      "overflow_y": null,
      "padding": null,
      "right": null,
      "top": null,
      "visibility": null,
      "width": null
     }
    },
    "062cbde621c74c9d92ec93a9773f30ad": {
     "model_module": "@jupyter-widgets/base",
     "model_module_version": "1.2.0",
     "model_name": "LayoutModel",
     "state": {
      "_model_module": "@jupyter-widgets/base",
      "_model_module_version": "1.2.0",
      "_model_name": "LayoutModel",
      "_view_count": null,
      "_view_module": "@jupyter-widgets/base",
      "_view_module_version": "1.2.0",
      "_view_name": "LayoutView",
      "align_content": null,
      "align_items": null,
      "align_self": null,
      "border": null,
      "bottom": null,
      "display": null,
      "flex": null,
      "flex_flow": null,
      "grid_area": null,
      "grid_auto_columns": null,
      "grid_auto_flow": null,
      "grid_auto_rows": null,
      "grid_column": null,
      "grid_gap": null,
      "grid_row": null,
      "grid_template_areas": null,
      "grid_template_columns": null,
      "grid_template_rows": null,
      "height": null,
      "justify_content": null,
      "justify_items": null,
      "left": null,
      "margin": null,
      "max_height": null,
      "max_width": null,
      "min_height": null,
      "min_width": null,
      "object_fit": null,
      "object_position": null,
      "order": null,
      "overflow": null,
      "overflow_x": null,
      "overflow_y": null,
      "padding": null,
      "right": null,
      "top": null,
      "visibility": null,
      "width": null
     }
    },
    "11f8c9eb919a4ee38d58a0453d34a5a5": {
     "model_module": "@jupyter-widgets/controls",
     "model_module_version": "1.5.0",
     "model_name": "HTMLModel",
     "state": {
      "_dom_classes": [],
      "_model_module": "@jupyter-widgets/controls",
      "_model_module_version": "1.5.0",
      "_model_name": "HTMLModel",
      "_view_count": null,
      "_view_module": "@jupyter-widgets/controls",
      "_view_module_version": "1.5.0",
      "_view_name": "HTMLView",
      "description": "",
      "description_tooltip": null,
      "layout": "IPY_MODEL_23cfc7a0844e44ad8563df2a96188e2e",
      "placeholder": "​",
      "style": "IPY_MODEL_45f21c65ff3f4bb4a7ae333107431db3",
      "value": ""
     }
    },
    "12643e97e56d4dd8b3b4cbc2410262e8": {
     "model_module": "@jupyter-widgets/controls",
     "model_module_version": "1.5.0",
     "model_name": "HTMLModel",
     "state": {
      "_dom_classes": [],
      "_model_module": "@jupyter-widgets/controls",
      "_model_module_version": "1.5.0",
      "_model_name": "HTMLModel",
      "_view_count": null,
      "_view_module": "@jupyter-widgets/controls",
      "_view_module_version": "1.5.0",
      "_view_name": "HTMLView",
      "description": "",
      "description_tooltip": null,
      "layout": "IPY_MODEL_235e8ada3a7b4b33b41e60241df27885",
      "placeholder": "​",
      "style": "IPY_MODEL_1b6801642cfe414dbce5cc321ca7bd71",
      "value": " 50/50 [22:04&lt;00:00, 26.56s/it]"
     }
    },
    "157b9f1087a143c8ac58010bd2a207d3": {
     "model_module": "@jupyter-widgets/base",
     "model_module_version": "1.2.0",
     "model_name": "LayoutModel",
     "state": {
      "_model_module": "@jupyter-widgets/base",
      "_model_module_version": "1.2.0",
      "_model_name": "LayoutModel",
      "_view_count": null,
      "_view_module": "@jupyter-widgets/base",
      "_view_module_version": "1.2.0",
      "_view_name": "LayoutView",
      "align_content": null,
      "align_items": null,
      "align_self": null,
      "border": null,
      "bottom": null,
      "display": null,
      "flex": null,
      "flex_flow": null,
      "grid_area": null,
      "grid_auto_columns": null,
      "grid_auto_flow": null,
      "grid_auto_rows": null,
      "grid_column": null,
      "grid_gap": null,
      "grid_row": null,
      "grid_template_areas": null,
      "grid_template_columns": null,
      "grid_template_rows": null,
      "height": null,
      "justify_content": null,
      "justify_items": null,
      "left": null,
      "margin": null,
      "max_height": null,
      "max_width": null,
      "min_height": null,
      "min_width": null,
      "object_fit": null,
      "object_position": null,
      "order": null,
      "overflow": null,
      "overflow_x": null,
      "overflow_y": null,
      "padding": null,
      "right": null,
      "top": null,
      "visibility": null,
      "width": null
     }
    },
    "1b6801642cfe414dbce5cc321ca7bd71": {
     "model_module": "@jupyter-widgets/controls",
     "model_module_version": "1.5.0",
     "model_name": "DescriptionStyleModel",
     "state": {
      "_model_module": "@jupyter-widgets/controls",
      "_model_module_version": "1.5.0",
      "_model_name": "DescriptionStyleModel",
      "_view_count": null,
      "_view_module": "@jupyter-widgets/base",
      "_view_module_version": "1.2.0",
      "_view_name": "StyleView",
      "description_width": ""
     }
    },
    "1ca71f503a434d529948315eb0f06037": {
     "model_module": "@jupyter-widgets/controls",
     "model_module_version": "1.5.0",
     "model_name": "HTMLModel",
     "state": {
      "_dom_classes": [],
      "_model_module": "@jupyter-widgets/controls",
      "_model_module_version": "1.5.0",
      "_model_name": "HTMLModel",
      "_view_count": null,
      "_view_module": "@jupyter-widgets/controls",
      "_view_module_version": "1.5.0",
      "_view_name": "HTMLView",
      "description": "",
      "description_tooltip": null,
      "layout": "IPY_MODEL_e4def912296e4381a52f8cb175f65951",
      "placeholder": "​",
      "style": "IPY_MODEL_6c9aeeb7e4174d408ce6c0bdeeffe279",
      "value": " 30/30 [00:05&lt;00:00,  5.65it/s]"
     }
    },
    "1dda865912e04299b7d5c3baede7fc6f": {
     "model_module": "@jupyter-widgets/base",
     "model_module_version": "1.2.0",
     "model_name": "LayoutModel",
     "state": {
      "_model_module": "@jupyter-widgets/base",
      "_model_module_version": "1.2.0",
      "_model_name": "LayoutModel",
      "_view_count": null,
      "_view_module": "@jupyter-widgets/base",
      "_view_module_version": "1.2.0",
      "_view_name": "LayoutView",
      "align_content": null,
      "align_items": null,
      "align_self": null,
      "border": null,
      "bottom": null,
      "display": null,
      "flex": null,
      "flex_flow": null,
      "grid_area": null,
      "grid_auto_columns": null,
      "grid_auto_flow": null,
      "grid_auto_rows": null,
      "grid_column": null,
      "grid_gap": null,
      "grid_row": null,
      "grid_template_areas": null,
      "grid_template_columns": null,
      "grid_template_rows": null,
      "height": null,
      "justify_content": null,
      "justify_items": null,
      "left": null,
      "margin": null,
      "max_height": null,
      "max_width": null,
      "min_height": null,
      "min_width": null,
      "object_fit": null,
      "object_position": null,
      "order": null,
      "overflow": null,
      "overflow_x": null,
      "overflow_y": null,
      "padding": null,
      "right": null,
      "top": null,
      "visibility": null,
      "width": null
     }
    },
    "20dae883b028484c95315ecc4d5ef23f": {
     "model_module": "@jupyter-widgets/controls",
     "model_module_version": "1.5.0",
     "model_name": "HBoxModel",
     "state": {
      "_dom_classes": [],
      "_model_module": "@jupyter-widgets/controls",
      "_model_module_version": "1.5.0",
      "_model_name": "HBoxModel",
      "_view_count": null,
      "_view_module": "@jupyter-widgets/controls",
      "_view_module_version": "1.5.0",
      "_view_name": "HBoxView",
      "box_style": "",
      "children": [
       "IPY_MODEL_8e1fe28114b14485a30e83cf6cf66d74",
       "IPY_MODEL_b508d834ab10481b9ba19be1ffec5e09",
       "IPY_MODEL_1ca71f503a434d529948315eb0f06037"
      ],
      "layout": "IPY_MODEL_cb5fa86e3e7348259a8c9c230709c330"
     }
    },
    "235e8ada3a7b4b33b41e60241df27885": {
     "model_module": "@jupyter-widgets/base",
     "model_module_version": "1.2.0",
     "model_name": "LayoutModel",
     "state": {
      "_model_module": "@jupyter-widgets/base",
      "_model_module_version": "1.2.0",
      "_model_name": "LayoutModel",
      "_view_count": null,
      "_view_module": "@jupyter-widgets/base",
      "_view_module_version": "1.2.0",
      "_view_name": "LayoutView",
      "align_content": null,
      "align_items": null,
      "align_self": null,
      "border": null,
      "bottom": null,
      "display": null,
      "flex": null,
      "flex_flow": null,
      "grid_area": null,
      "grid_auto_columns": null,
      "grid_auto_flow": null,
      "grid_auto_rows": null,
      "grid_column": null,
      "grid_gap": null,
      "grid_row": null,
      "grid_template_areas": null,
      "grid_template_columns": null,
      "grid_template_rows": null,
      "height": null,
      "justify_content": null,
      "justify_items": null,
      "left": null,
      "margin": null,
      "max_height": null,
      "max_width": null,
      "min_height": null,
      "min_width": null,
      "object_fit": null,
      "object_position": null,
      "order": null,
      "overflow": null,
      "overflow_x": null,
      "overflow_y": null,
      "padding": null,
      "right": null,
      "top": null,
      "visibility": null,
      "width": null
     }
    },
    "23cfc7a0844e44ad8563df2a96188e2e": {
     "model_module": "@jupyter-widgets/base",
     "model_module_version": "1.2.0",
     "model_name": "LayoutModel",
     "state": {
      "_model_module": "@jupyter-widgets/base",
      "_model_module_version": "1.2.0",
      "_model_name": "LayoutModel",
      "_view_count": null,
      "_view_module": "@jupyter-widgets/base",
      "_view_module_version": "1.2.0",
      "_view_name": "LayoutView",
      "align_content": null,
      "align_items": null,
      "align_self": null,
      "border": null,
      "bottom": null,
      "display": null,
      "flex": null,
      "flex_flow": null,
      "grid_area": null,
      "grid_auto_columns": null,
      "grid_auto_flow": null,
      "grid_auto_rows": null,
      "grid_column": null,
      "grid_gap": null,
      "grid_row": null,
      "grid_template_areas": null,
      "grid_template_columns": null,
      "grid_template_rows": null,
      "height": null,
      "justify_content": null,
      "justify_items": null,
      "left": null,
      "margin": null,
      "max_height": null,
      "max_width": null,
      "min_height": null,
      "min_width": null,
      "object_fit": null,
      "object_position": null,
      "order": null,
      "overflow": null,
      "overflow_x": null,
      "overflow_y": null,
      "padding": null,
      "right": null,
      "top": null,
      "visibility": null,
      "width": null
     }
    },
    "25a75505829045dfaa836e16f7c2fbfd": {
     "model_module": "@jupyter-widgets/controls",
     "model_module_version": "1.5.0",
     "model_name": "FloatProgressModel",
     "state": {
      "_dom_classes": [],
      "_model_module": "@jupyter-widgets/controls",
      "_model_module_version": "1.5.0",
      "_model_name": "FloatProgressModel",
      "_view_count": null,
      "_view_module": "@jupyter-widgets/controls",
      "_view_module_version": "1.5.0",
      "_view_name": "ProgressView",
      "bar_style": "success",
      "description": "",
      "description_tooltip": null,
      "layout": "IPY_MODEL_7cdef913d7584666b59e6eef47363506",
      "max": 50,
      "min": 0,
      "orientation": "horizontal",
      "style": "IPY_MODEL_a616e09ba0f54cd588fc9ad92e71149b",
      "value": 50
     }
    },
    "263c21d7aa9d4d2cb684682384e38fd8": {
     "model_module": "@jupyter-widgets/base",
     "model_module_version": "1.2.0",
     "model_name": "LayoutModel",
     "state": {
      "_model_module": "@jupyter-widgets/base",
      "_model_module_version": "1.2.0",
      "_model_name": "LayoutModel",
      "_view_count": null,
      "_view_module": "@jupyter-widgets/base",
      "_view_module_version": "1.2.0",
      "_view_name": "LayoutView",
      "align_content": null,
      "align_items": null,
      "align_self": null,
      "border": null,
      "bottom": null,
      "display": null,
      "flex": null,
      "flex_flow": null,
      "grid_area": null,
      "grid_auto_columns": null,
      "grid_auto_flow": null,
      "grid_auto_rows": null,
      "grid_column": null,
      "grid_gap": null,
      "grid_row": null,
      "grid_template_areas": null,
      "grid_template_columns": null,
      "grid_template_rows": null,
      "height": null,
      "justify_content": null,
      "justify_items": null,
      "left": null,
      "margin": null,
      "max_height": null,
      "max_width": null,
      "min_height": null,
      "min_width": null,
      "object_fit": null,
      "object_position": null,
      "order": null,
      "overflow": null,
      "overflow_x": null,
      "overflow_y": null,
      "padding": null,
      "right": null,
      "top": null,
      "visibility": null,
      "width": null
     }
    },
    "2bbe082104f24b98b5ef120b81eef2ee": {
     "model_module": "@jupyter-widgets/base",
     "model_module_version": "1.2.0",
     "model_name": "LayoutModel",
     "state": {
      "_model_module": "@jupyter-widgets/base",
      "_model_module_version": "1.2.0",
      "_model_name": "LayoutModel",
      "_view_count": null,
      "_view_module": "@jupyter-widgets/base",
      "_view_module_version": "1.2.0",
      "_view_name": "LayoutView",
      "align_content": null,
      "align_items": null,
      "align_self": null,
      "border": null,
      "bottom": null,
      "display": null,
      "flex": null,
      "flex_flow": null,
      "grid_area": null,
      "grid_auto_columns": null,
      "grid_auto_flow": null,
      "grid_auto_rows": null,
      "grid_column": null,
      "grid_gap": null,
      "grid_row": null,
      "grid_template_areas": null,
      "grid_template_columns": null,
      "grid_template_rows": null,
      "height": null,
      "justify_content": null,
      "justify_items": null,
      "left": null,
      "margin": null,
      "max_height": null,
      "max_width": null,
      "min_height": null,
      "min_width": null,
      "object_fit": null,
      "object_position": null,
      "order": null,
      "overflow": null,
      "overflow_x": null,
      "overflow_y": null,
      "padding": null,
      "right": null,
      "top": null,
      "visibility": null,
      "width": null
     }
    },
    "2bf9f6c809774cef8cba9e4c6f0d1f0e": {
     "model_module": "@jupyter-widgets/base",
     "model_module_version": "1.2.0",
     "model_name": "LayoutModel",
     "state": {
      "_model_module": "@jupyter-widgets/base",
      "_model_module_version": "1.2.0",
      "_model_name": "LayoutModel",
      "_view_count": null,
      "_view_module": "@jupyter-widgets/base",
      "_view_module_version": "1.2.0",
      "_view_name": "LayoutView",
      "align_content": null,
      "align_items": null,
      "align_self": null,
      "border": null,
      "bottom": null,
      "display": null,
      "flex": null,
      "flex_flow": null,
      "grid_area": null,
      "grid_auto_columns": null,
      "grid_auto_flow": null,
      "grid_auto_rows": null,
      "grid_column": null,
      "grid_gap": null,
      "grid_row": null,
      "grid_template_areas": null,
      "grid_template_columns": null,
      "grid_template_rows": null,
      "height": null,
      "justify_content": null,
      "justify_items": null,
      "left": null,
      "margin": null,
      "max_height": null,
      "max_width": null,
      "min_height": null,
      "min_width": null,
      "object_fit": null,
      "object_position": null,
      "order": null,
      "overflow": null,
      "overflow_x": null,
      "overflow_y": null,
      "padding": null,
      "right": null,
      "top": null,
      "visibility": null,
      "width": null
     }
    },
    "2bfbfdd930c245548f738b79b92068a9": {
     "model_module": "@jupyter-widgets/controls",
     "model_module_version": "1.5.0",
     "model_name": "FloatProgressModel",
     "state": {
      "_dom_classes": [],
      "_model_module": "@jupyter-widgets/controls",
      "_model_module_version": "1.5.0",
      "_model_name": "FloatProgressModel",
      "_view_count": null,
      "_view_module": "@jupyter-widgets/controls",
      "_view_module_version": "1.5.0",
      "_view_name": "ProgressView",
      "bar_style": "success",
      "description": "",
      "description_tooltip": null,
      "layout": "IPY_MODEL_e54078a5be004cd2beed7dc03a536cb4",
      "max": 50,
      "min": 0,
      "orientation": "horizontal",
      "style": "IPY_MODEL_5bf1016bd02846e1baac29b348457a69",
      "value": 50
     }
    },
    "2d9cc691757f4459b7826f791e1ffc76": {
     "model_module": "@jupyter-widgets/controls",
     "model_module_version": "1.5.0",
     "model_name": "HTMLModel",
     "state": {
      "_dom_classes": [],
      "_model_module": "@jupyter-widgets/controls",
      "_model_module_version": "1.5.0",
      "_model_name": "HTMLModel",
      "_view_count": null,
      "_view_module": "@jupyter-widgets/controls",
      "_view_module_version": "1.5.0",
      "_view_name": "HTMLView",
      "description": "",
      "description_tooltip": null,
      "layout": "IPY_MODEL_6898adc9285744e4939407eeebb27463",
      "placeholder": "​",
      "style": "IPY_MODEL_99716b5c34ed4c8692bed5afe1338c79",
      "value": ""
     }
    },
    "2f56f8e2582a4ef4bb8885bbb8efde61": {
     "model_module": "@jupyter-widgets/base",
     "model_module_version": "1.2.0",
     "model_name": "LayoutModel",
     "state": {
      "_model_module": "@jupyter-widgets/base",
      "_model_module_version": "1.2.0",
      "_model_name": "LayoutModel",
      "_view_count": null,
      "_view_module": "@jupyter-widgets/base",
      "_view_module_version": "1.2.0",
      "_view_name": "LayoutView",
      "align_content": null,
      "align_items": null,
      "align_self": null,
      "border": null,
      "bottom": null,
      "display": null,
      "flex": null,
      "flex_flow": null,
      "grid_area": null,
      "grid_auto_columns": null,
      "grid_auto_flow": null,
      "grid_auto_rows": null,
      "grid_column": null,
      "grid_gap": null,
      "grid_row": null,
      "grid_template_areas": null,
      "grid_template_columns": null,
      "grid_template_rows": null,
      "height": null,
      "justify_content": null,
      "justify_items": null,
      "left": null,
      "margin": null,
      "max_height": null,
      "max_width": null,
      "min_height": null,
      "min_width": null,
      "object_fit": null,
      "object_position": null,
      "order": null,
      "overflow": null,
      "overflow_x": null,
      "overflow_y": null,
      "padding": null,
      "right": null,
      "top": null,
      "visibility": null,
      "width": null
     }
    },
    "2fe167e6ec514e0dbcc844529bd8f204": {
     "model_module": "@jupyter-widgets/controls",
     "model_module_version": "1.5.0",
     "model_name": "FloatProgressModel",
     "state": {
      "_dom_classes": [],
      "_model_module": "@jupyter-widgets/controls",
      "_model_module_version": "1.5.0",
      "_model_name": "FloatProgressModel",
      "_view_count": null,
      "_view_module": "@jupyter-widgets/controls",
      "_view_module_version": "1.5.0",
      "_view_name": "ProgressView",
      "bar_style": "success",
      "description": "",
      "description_tooltip": null,
      "layout": "IPY_MODEL_98f3aec5f42d4e21a50530b885052583",
      "max": 28881,
      "min": 0,
      "orientation": "horizontal",
      "style": "IPY_MODEL_87cb64ef9b94490d9601d2cea37d615c",
      "value": 28881
     }
    },
    "3bb39eb9915343f99d33e0e09843d8bc": {
     "model_module": "@jupyter-widgets/controls",
     "model_module_version": "1.5.0",
     "model_name": "FloatProgressModel",
     "state": {
      "_dom_classes": [],
      "_model_module": "@jupyter-widgets/controls",
      "_model_module_version": "1.5.0",
      "_model_name": "FloatProgressModel",
      "_view_count": null,
      "_view_module": "@jupyter-widgets/controls",
      "_view_module_version": "1.5.0",
      "_view_name": "ProgressView",
      "bar_style": "success",
      "description": "",
      "description_tooltip": null,
      "layout": "IPY_MODEL_b3adfcf33c314c6ca05c9885178af4f2",
      "max": 4542,
      "min": 0,
      "orientation": "horizontal",
      "style": "IPY_MODEL_c58493e3d9d642a9920706a57c890b0b",
      "value": 4542
     }
    },
    "3c0d79bb5d70462397c990ae7c586db1": {
     "model_module": "@jupyter-widgets/controls",
     "model_module_version": "1.5.0",
     "model_name": "HTMLModel",
     "state": {
      "_dom_classes": [],
      "_model_module": "@jupyter-widgets/controls",
      "_model_module_version": "1.5.0",
      "_model_name": "HTMLModel",
      "_view_count": null,
      "_view_module": "@jupyter-widgets/controls",
      "_view_module_version": "1.5.0",
      "_view_name": "HTMLView",
      "description": "",
      "description_tooltip": null,
      "layout": "IPY_MODEL_2f56f8e2582a4ef4bb8885bbb8efde61",
      "placeholder": "​",
      "style": "IPY_MODEL_fa2c9dcb1fd048a0b321042b527e65ef",
      "value": "100%"
     }
    },
    "4207246690bf4ec1a1a4024315525453": {
     "model_module": "@jupyter-widgets/base",
     "model_module_version": "1.2.0",
     "model_name": "LayoutModel",
     "state": {
      "_model_module": "@jupyter-widgets/base",
      "_model_module_version": "1.2.0",
      "_model_name": "LayoutModel",
      "_view_count": null,
      "_view_module": "@jupyter-widgets/base",
      "_view_module_version": "1.2.0",
      "_view_name": "LayoutView",
      "align_content": null,
      "align_items": null,
      "align_self": null,
      "border": null,
      "bottom": null,
      "display": null,
      "flex": null,
      "flex_flow": null,
      "grid_area": null,
      "grid_auto_columns": null,
      "grid_auto_flow": null,
      "grid_auto_rows": null,
      "grid_column": null,
      "grid_gap": null,
      "grid_row": null,
      "grid_template_areas": null,
      "grid_template_columns": null,
      "grid_template_rows": null,
      "height": null,
      "justify_content": null,
      "justify_items": null,
      "left": null,
      "margin": null,
      "max_height": null,
      "max_width": null,
      "min_height": null,
      "min_width": null,
      "object_fit": null,
      "object_position": null,
      "order": null,
      "overflow": null,
      "overflow_x": null,
      "overflow_y": null,
      "padding": null,
      "right": null,
      "top": null,
      "visibility": null,
      "width": null
     }
    },
    "45f21c65ff3f4bb4a7ae333107431db3": {
     "model_module": "@jupyter-widgets/controls",
     "model_module_version": "1.5.0",
     "model_name": "DescriptionStyleModel",
     "state": {
      "_model_module": "@jupyter-widgets/controls",
      "_model_module_version": "1.5.0",
      "_model_name": "DescriptionStyleModel",
      "_view_count": null,
      "_view_module": "@jupyter-widgets/base",
      "_view_module_version": "1.2.0",
      "_view_name": "StyleView",
      "description_width": ""
     }
    },
    "465b907a1199441da21381ea9366efba": {
     "model_module": "@jupyter-widgets/base",
     "model_module_version": "1.2.0",
     "model_name": "LayoutModel",
     "state": {
      "_model_module": "@jupyter-widgets/base",
      "_model_module_version": "1.2.0",
      "_model_name": "LayoutModel",
      "_view_count": null,
      "_view_module": "@jupyter-widgets/base",
      "_view_module_version": "1.2.0",
      "_view_name": "LayoutView",
      "align_content": null,
      "align_items": null,
      "align_self": null,
      "border": null,
      "bottom": null,
      "display": null,
      "flex": null,
      "flex_flow": null,
      "grid_area": null,
      "grid_auto_columns": null,
      "grid_auto_flow": null,
      "grid_auto_rows": null,
      "grid_column": null,
      "grid_gap": null,
      "grid_row": null,
      "grid_template_areas": null,
      "grid_template_columns": null,
      "grid_template_rows": null,
      "height": null,
      "justify_content": null,
      "justify_items": null,
      "left": null,
      "margin": null,
      "max_height": null,
      "max_width": null,
      "min_height": null,
      "min_width": null,
      "object_fit": null,
      "object_position": null,
      "order": null,
      "overflow": null,
      "overflow_x": null,
      "overflow_y": null,
      "padding": null,
      "right": null,
      "top": null,
      "visibility": null,
      "width": null
     }
    },
    "53c112912b0746e381d575bbfe21d92b": {
     "model_module": "@jupyter-widgets/controls",
     "model_module_version": "1.5.0",
     "model_name": "DescriptionStyleModel",
     "state": {
      "_model_module": "@jupyter-widgets/controls",
      "_model_module_version": "1.5.0",
      "_model_name": "DescriptionStyleModel",
      "_view_count": null,
      "_view_module": "@jupyter-widgets/base",
      "_view_module_version": "1.2.0",
      "_view_name": "StyleView",
      "description_width": ""
     }
    },
    "5b00232af23b4166b1d964e144d0277c": {
     "model_module": "@jupyter-widgets/controls",
     "model_module_version": "1.5.0",
     "model_name": "HTMLModel",
     "state": {
      "_dom_classes": [],
      "_model_module": "@jupyter-widgets/controls",
      "_model_module_version": "1.5.0",
      "_model_name": "HTMLModel",
      "_view_count": null,
      "_view_module": "@jupyter-widgets/controls",
      "_view_module_version": "1.5.0",
      "_view_name": "HTMLView",
      "description": "",
      "description_tooltip": null,
      "layout": "IPY_MODEL_01e78aa2b29b4cc2aeeec4abddc19c25",
      "placeholder": "​",
      "style": "IPY_MODEL_888f239524b64189a47343777b6d9b7d",
      "value": ""
     }
    },
    "5b61825877f747bb87e70f6f9241d6ed": {
     "model_module": "@jupyter-widgets/controls",
     "model_module_version": "1.5.0",
     "model_name": "HBoxModel",
     "state": {
      "_dom_classes": [],
      "_model_module": "@jupyter-widgets/controls",
      "_model_module_version": "1.5.0",
      "_model_name": "HBoxModel",
      "_view_count": null,
      "_view_module": "@jupyter-widgets/controls",
      "_view_module_version": "1.5.0",
      "_view_name": "HBoxView",
      "box_style": "",
      "children": [
       "IPY_MODEL_2d9cc691757f4459b7826f791e1ffc76",
       "IPY_MODEL_bc19c00f043a422781086fd2d506396a",
       "IPY_MODEL_82a77083df5a408c8cea5e3b94c282ae"
      ],
      "layout": "IPY_MODEL_e29d9c5ddcb748b8b71fd73bcad67bd3"
     }
    },
    "5bf1016bd02846e1baac29b348457a69": {
     "model_module": "@jupyter-widgets/controls",
     "model_module_version": "1.5.0",
     "model_name": "ProgressStyleModel",
     "state": {
      "_model_module": "@jupyter-widgets/controls",
      "_model_module_version": "1.5.0",
      "_model_name": "ProgressStyleModel",
      "_view_count": null,
      "_view_module": "@jupyter-widgets/base",
      "_view_module_version": "1.2.0",
      "_view_name": "StyleView",
      "bar_color": null,
      "description_width": ""
     }
    },
    "5ee12b75f37b4591859974413209ab50": {
     "model_module": "@jupyter-widgets/controls",
     "model_module_version": "1.5.0",
     "model_name": "DescriptionStyleModel",
     "state": {
      "_model_module": "@jupyter-widgets/controls",
      "_model_module_version": "1.5.0",
      "_model_name": "DescriptionStyleModel",
      "_view_count": null,
      "_view_module": "@jupyter-widgets/base",
      "_view_module_version": "1.2.0",
      "_view_name": "StyleView",
      "description_width": ""
     }
    },
    "605968951c4a4a3fbf6c62145898887f": {
     "model_module": "@jupyter-widgets/controls",
     "model_module_version": "1.5.0",
     "model_name": "ProgressStyleModel",
     "state": {
      "_model_module": "@jupyter-widgets/controls",
      "_model_module_version": "1.5.0",
      "_model_name": "ProgressStyleModel",
      "_view_count": null,
      "_view_module": "@jupyter-widgets/base",
      "_view_module_version": "1.2.0",
      "_view_name": "StyleView",
      "bar_color": null,
      "description_width": ""
     }
    },
    "62cd4bec580741bdb1b25d044564e503": {
     "model_module": "@jupyter-widgets/base",
     "model_module_version": "1.2.0",
     "model_name": "LayoutModel",
     "state": {
      "_model_module": "@jupyter-widgets/base",
      "_model_module_version": "1.2.0",
      "_model_name": "LayoutModel",
      "_view_count": null,
      "_view_module": "@jupyter-widgets/base",
      "_view_module_version": "1.2.0",
      "_view_name": "LayoutView",
      "align_content": null,
      "align_items": null,
      "align_self": null,
      "border": null,
      "bottom": null,
      "display": null,
      "flex": null,
      "flex_flow": null,
      "grid_area": null,
      "grid_auto_columns": null,
      "grid_auto_flow": null,
      "grid_auto_rows": null,
      "grid_column": null,
      "grid_gap": null,
      "grid_row": null,
      "grid_template_areas": null,
      "grid_template_columns": null,
      "grid_template_rows": null,
      "height": null,
      "justify_content": null,
      "justify_items": null,
      "left": null,
      "margin": null,
      "max_height": null,
      "max_width": null,
      "min_height": null,
      "min_width": null,
      "object_fit": null,
      "object_position": null,
      "order": null,
      "overflow": null,
      "overflow_x": null,
      "overflow_y": null,
      "padding": null,
      "right": null,
      "top": null,
      "visibility": null,
      "width": null
     }
    },
    "65fbca3956144d96997e272b3aacf021": {
     "model_module": "@jupyter-widgets/controls",
     "model_module_version": "1.5.0",
     "model_name": "HTMLModel",
     "state": {
      "_dom_classes": [],
      "_model_module": "@jupyter-widgets/controls",
      "_model_module_version": "1.5.0",
      "_model_name": "HTMLModel",
      "_view_count": null,
      "_view_module": "@jupyter-widgets/controls",
      "_view_module_version": "1.5.0",
      "_view_name": "HTMLView",
      "description": "",
      "description_tooltip": null,
      "layout": "IPY_MODEL_6b142f3e67c741b59406762f6ce4c05c",
      "placeholder": "​",
      "style": "IPY_MODEL_9006dba2e95041259a29e09d90d2bd7b",
      "value": " 29696/? [00:00&lt;00:00, 721391.72it/s]"
     }
    },
    "6898adc9285744e4939407eeebb27463": {
     "model_module": "@jupyter-widgets/base",
     "model_module_version": "1.2.0",
     "model_name": "LayoutModel",
     "state": {
      "_model_module": "@jupyter-widgets/base",
      "_model_module_version": "1.2.0",
      "_model_name": "LayoutModel",
      "_view_count": null,
      "_view_module": "@jupyter-widgets/base",
      "_view_module_version": "1.2.0",
      "_view_name": "LayoutView",
      "align_content": null,
      "align_items": null,
      "align_self": null,
      "border": null,
      "bottom": null,
      "display": null,
      "flex": null,
      "flex_flow": null,
      "grid_area": null,
      "grid_auto_columns": null,
      "grid_auto_flow": null,
      "grid_auto_rows": null,
      "grid_column": null,
      "grid_gap": null,
      "grid_row": null,
      "grid_template_areas": null,
      "grid_template_columns": null,
      "grid_template_rows": null,
      "height": null,
      "justify_content": null,
      "justify_items": null,
      "left": null,
      "margin": null,
      "max_height": null,
      "max_width": null,
      "min_height": null,
      "min_width": null,
      "object_fit": null,
      "object_position": null,
      "order": null,
      "overflow": null,
      "overflow_x": null,
      "overflow_y": null,
      "padding": null,
      "right": null,
      "top": null,
      "visibility": null,
      "width": null
     }
    },
    "697666a89bc94ac6b57ff313be5ea03d": {
     "model_module": "@jupyter-widgets/base",
     "model_module_version": "1.2.0",
     "model_name": "LayoutModel",
     "state": {
      "_model_module": "@jupyter-widgets/base",
      "_model_module_version": "1.2.0",
      "_model_name": "LayoutModel",
      "_view_count": null,
      "_view_module": "@jupyter-widgets/base",
      "_view_module_version": "1.2.0",
      "_view_name": "LayoutView",
      "align_content": null,
      "align_items": null,
      "align_self": null,
      "border": null,
      "bottom": null,
      "display": null,
      "flex": null,
      "flex_flow": null,
      "grid_area": null,
      "grid_auto_columns": null,
      "grid_auto_flow": null,
      "grid_auto_rows": null,
      "grid_column": null,
      "grid_gap": null,
      "grid_row": null,
      "grid_template_areas": null,
      "grid_template_columns": null,
      "grid_template_rows": null,
      "height": null,
      "justify_content": null,
      "justify_items": null,
      "left": null,
      "margin": null,
      "max_height": null,
      "max_width": null,
      "min_height": null,
      "min_width": null,
      "object_fit": null,
      "object_position": null,
      "order": null,
      "overflow": null,
      "overflow_x": null,
      "overflow_y": null,
      "padding": null,
      "right": null,
      "top": null,
      "visibility": null,
      "width": null
     }
    },
    "6a0c0d532d0f443986305ac3b8bd485b": {
     "model_module": "@jupyter-widgets/controls",
     "model_module_version": "1.5.0",
     "model_name": "HBoxModel",
     "state": {
      "_dom_classes": [],
      "_model_module": "@jupyter-widgets/controls",
      "_model_module_version": "1.5.0",
      "_model_name": "HBoxModel",
      "_view_count": null,
      "_view_module": "@jupyter-widgets/controls",
      "_view_module_version": "1.5.0",
      "_view_name": "HBoxView",
      "box_style": "",
      "children": [
       "IPY_MODEL_5b00232af23b4166b1d964e144d0277c",
       "IPY_MODEL_2fe167e6ec514e0dbcc844529bd8f204",
       "IPY_MODEL_65fbca3956144d96997e272b3aacf021"
      ],
      "layout": "IPY_MODEL_efb8a93c719a4800b87e7502bd2b77ea"
     }
    },
    "6b142f3e67c741b59406762f6ce4c05c": {
     "model_module": "@jupyter-widgets/base",
     "model_module_version": "1.2.0",
     "model_name": "LayoutModel",
     "state": {
      "_model_module": "@jupyter-widgets/base",
      "_model_module_version": "1.2.0",
      "_model_name": "LayoutModel",
      "_view_count": null,
      "_view_module": "@jupyter-widgets/base",
      "_view_module_version": "1.2.0",
      "_view_name": "LayoutView",
      "align_content": null,
      "align_items": null,
      "align_self": null,
      "border": null,
      "bottom": null,
      "display": null,
      "flex": null,
      "flex_flow": null,
      "grid_area": null,
      "grid_auto_columns": null,
      "grid_auto_flow": null,
      "grid_auto_rows": null,
      "grid_column": null,
      "grid_gap": null,
      "grid_row": null,
      "grid_template_areas": null,
      "grid_template_columns": null,
      "grid_template_rows": null,
      "height": null,
      "justify_content": null,
      "justify_items": null,
      "left": null,
      "margin": null,
      "max_height": null,
      "max_width": null,
      "min_height": null,
      "min_width": null,
      "object_fit": null,
      "object_position": null,
      "order": null,
      "overflow": null,
      "overflow_x": null,
      "overflow_y": null,
      "padding": null,
      "right": null,
      "top": null,
      "visibility": null,
      "width": null
     }
    },
    "6c9aeeb7e4174d408ce6c0bdeeffe279": {
     "model_module": "@jupyter-widgets/controls",
     "model_module_version": "1.5.0",
     "model_name": "DescriptionStyleModel",
     "state": {
      "_model_module": "@jupyter-widgets/controls",
      "_model_module_version": "1.5.0",
      "_model_name": "DescriptionStyleModel",
      "_view_count": null,
      "_view_module": "@jupyter-widgets/base",
      "_view_module_version": "1.2.0",
      "_view_name": "StyleView",
      "description_width": ""
     }
    },
    "6eb5250778a54701bc5be5e9d2465ac0": {
     "model_module": "@jupyter-widgets/controls",
     "model_module_version": "1.5.0",
     "model_name": "HTMLModel",
     "state": {
      "_dom_classes": [],
      "_model_module": "@jupyter-widgets/controls",
      "_model_module_version": "1.5.0",
      "_model_name": "HTMLModel",
      "_view_count": null,
      "_view_module": "@jupyter-widgets/controls",
      "_view_module_version": "1.5.0",
      "_view_name": "HTMLView",
      "description": "",
      "description_tooltip": null,
      "layout": "IPY_MODEL_465b907a1199441da21381ea9366efba",
      "placeholder": "​",
      "style": "IPY_MODEL_8ea0da67b3f04b7a8f4ff114d79c760b",
      "value": ""
     }
    },
    "7408adde0315447bb880798ae382f5db": {
     "model_module": "@jupyter-widgets/base",
     "model_module_version": "1.2.0",
     "model_name": "LayoutModel",
     "state": {
      "_model_module": "@jupyter-widgets/base",
      "_model_module_version": "1.2.0",
      "_model_name": "LayoutModel",
      "_view_count": null,
      "_view_module": "@jupyter-widgets/base",
      "_view_module_version": "1.2.0",
      "_view_name": "LayoutView",
      "align_content": null,
      "align_items": null,
      "align_self": null,
      "border": null,
      "bottom": null,
      "display": null,
      "flex": null,
      "flex_flow": null,
      "grid_area": null,
      "grid_auto_columns": null,
      "grid_auto_flow": null,
      "grid_auto_rows": null,
      "grid_column": null,
      "grid_gap": null,
      "grid_row": null,
      "grid_template_areas": null,
      "grid_template_columns": null,
      "grid_template_rows": null,
      "height": null,
      "justify_content": null,
      "justify_items": null,
      "left": null,
      "margin": null,
      "max_height": null,
      "max_width": null,
      "min_height": null,
      "min_width": null,
      "object_fit": null,
      "object_position": null,
      "order": null,
      "overflow": null,
      "overflow_x": null,
      "overflow_y": null,
      "padding": null,
      "right": null,
      "top": null,
      "visibility": null,
      "width": null
     }
    },
    "7a6e894062f64d97bd6a1c0ca82d8de0": {
     "model_module": "@jupyter-widgets/controls",
     "model_module_version": "1.5.0",
     "model_name": "HTMLModel",
     "state": {
      "_dom_classes": [],
      "_model_module": "@jupyter-widgets/controls",
      "_model_module_version": "1.5.0",
      "_model_name": "HTMLModel",
      "_view_count": null,
      "_view_module": "@jupyter-widgets/controls",
      "_view_module_version": "1.5.0",
      "_view_name": "HTMLView",
      "description": "",
      "description_tooltip": null,
      "layout": "IPY_MODEL_7408adde0315447bb880798ae382f5db",
      "placeholder": "​",
      "style": "IPY_MODEL_53c112912b0746e381d575bbfe21d92b",
      "value": "100%"
     }
    },
    "7cdef913d7584666b59e6eef47363506": {
     "model_module": "@jupyter-widgets/base",
     "model_module_version": "1.2.0",
     "model_name": "LayoutModel",
     "state": {
      "_model_module": "@jupyter-widgets/base",
      "_model_module_version": "1.2.0",
      "_model_name": "LayoutModel",
      "_view_count": null,
      "_view_module": "@jupyter-widgets/base",
      "_view_module_version": "1.2.0",
      "_view_name": "LayoutView",
      "align_content": null,
      "align_items": null,
      "align_self": null,
      "border": null,
      "bottom": null,
      "display": null,
      "flex": null,
      "flex_flow": null,
      "grid_area": null,
      "grid_auto_columns": null,
      "grid_auto_flow": null,
      "grid_auto_rows": null,
      "grid_column": null,
      "grid_gap": null,
      "grid_row": null,
      "grid_template_areas": null,
      "grid_template_columns": null,
      "grid_template_rows": null,
      "height": null,
      "justify_content": null,
      "justify_items": null,
      "left": null,
      "margin": null,
      "max_height": null,
      "max_width": null,
      "min_height": null,
      "min_width": null,
      "object_fit": null,
      "object_position": null,
      "order": null,
      "overflow": null,
      "overflow_x": null,
      "overflow_y": null,
      "padding": null,
      "right": null,
      "top": null,
      "visibility": null,
      "width": null
     }
    },
    "7fa1a5f1bc104e3a891dda7e08c7ede4": {
     "model_module": "@jupyter-widgets/controls",
     "model_module_version": "1.5.0",
     "model_name": "DescriptionStyleModel",
     "state": {
      "_model_module": "@jupyter-widgets/controls",
      "_model_module_version": "1.5.0",
      "_model_name": "DescriptionStyleModel",
      "_view_count": null,
      "_view_module": "@jupyter-widgets/base",
      "_view_module_version": "1.2.0",
      "_view_name": "StyleView",
      "description_width": ""
     }
    },
    "82a77083df5a408c8cea5e3b94c282ae": {
     "model_module": "@jupyter-widgets/controls",
     "model_module_version": "1.5.0",
     "model_name": "HTMLModel",
     "state": {
      "_dom_classes": [],
      "_model_module": "@jupyter-widgets/controls",
      "_model_module_version": "1.5.0",
      "_model_name": "HTMLModel",
      "_view_count": null,
      "_view_module": "@jupyter-widgets/controls",
      "_view_module_version": "1.5.0",
      "_view_name": "HTMLView",
      "description": "",
      "description_tooltip": null,
      "layout": "IPY_MODEL_1dda865912e04299b7d5c3baede7fc6f",
      "placeholder": "​",
      "style": "IPY_MODEL_e2aacba07a9e4d25970a965c1fcfddaa",
      "value": " 9913344/? [00:00&lt;00:00, 50761355.11it/s]"
     }
    },
    "87cb64ef9b94490d9601d2cea37d615c": {
     "model_module": "@jupyter-widgets/controls",
     "model_module_version": "1.5.0",
     "model_name": "ProgressStyleModel",
     "state": {
      "_model_module": "@jupyter-widgets/controls",
      "_model_module_version": "1.5.0",
      "_model_name": "ProgressStyleModel",
      "_view_count": null,
      "_view_module": "@jupyter-widgets/base",
      "_view_module_version": "1.2.0",
      "_view_name": "StyleView",
      "bar_color": null,
      "description_width": ""
     }
    },
    "888f239524b64189a47343777b6d9b7d": {
     "model_module": "@jupyter-widgets/controls",
     "model_module_version": "1.5.0",
     "model_name": "DescriptionStyleModel",
     "state": {
      "_model_module": "@jupyter-widgets/controls",
      "_model_module_version": "1.5.0",
      "_model_name": "DescriptionStyleModel",
      "_view_count": null,
      "_view_module": "@jupyter-widgets/base",
      "_view_module_version": "1.2.0",
      "_view_name": "StyleView",
      "description_width": ""
     }
    },
    "8a38991e8cac424c9facbdf22fa2ee0f": {
     "model_module": "@jupyter-widgets/controls",
     "model_module_version": "1.5.0",
     "model_name": "HTMLModel",
     "state": {
      "_dom_classes": [],
      "_model_module": "@jupyter-widgets/controls",
      "_model_module_version": "1.5.0",
      "_model_name": "HTMLModel",
      "_view_count": null,
      "_view_module": "@jupyter-widgets/controls",
      "_view_module_version": "1.5.0",
      "_view_name": "HTMLView",
      "description": "",
      "description_tooltip": null,
      "layout": "IPY_MODEL_d4ab7ef90da74b0dbf1892db1d6c5436",
      "placeholder": "​",
      "style": "IPY_MODEL_8cc96e35097043d6b55d1fc8746492e5",
      "value": " 50/50 [06:37&lt;00:00,  7.93s/it]"
     }
    },
    "8a453da457fa44469b6d52e5a8cf5e2a": {
     "model_module": "@jupyter-widgets/controls",
     "model_module_version": "1.5.0",
     "model_name": "DescriptionStyleModel",
     "state": {
      "_model_module": "@jupyter-widgets/controls",
      "_model_module_version": "1.5.0",
      "_model_name": "DescriptionStyleModel",
      "_view_count": null,
      "_view_module": "@jupyter-widgets/base",
      "_view_module_version": "1.2.0",
      "_view_name": "StyleView",
      "description_width": ""
     }
    },
    "8bb4cd75812e479ba392a46bff06d82b": {
     "model_module": "@jupyter-widgets/base",
     "model_module_version": "1.2.0",
     "model_name": "LayoutModel",
     "state": {
      "_model_module": "@jupyter-widgets/base",
      "_model_module_version": "1.2.0",
      "_model_name": "LayoutModel",
      "_view_count": null,
      "_view_module": "@jupyter-widgets/base",
      "_view_module_version": "1.2.0",
      "_view_name": "LayoutView",
      "align_content": null,
      "align_items": null,
      "align_self": null,
      "border": null,
      "bottom": null,
      "display": null,
      "flex": null,
      "flex_flow": null,
      "grid_area": null,
      "grid_auto_columns": null,
      "grid_auto_flow": null,
      "grid_auto_rows": null,
      "grid_column": null,
      "grid_gap": null,
      "grid_row": null,
      "grid_template_areas": null,
      "grid_template_columns": null,
      "grid_template_rows": null,
      "height": null,
      "justify_content": null,
      "justify_items": null,
      "left": null,
      "margin": null,
      "max_height": null,
      "max_width": null,
      "min_height": null,
      "min_width": null,
      "object_fit": null,
      "object_position": null,
      "order": null,
      "overflow": null,
      "overflow_x": null,
      "overflow_y": null,
      "padding": null,
      "right": null,
      "top": null,
      "visibility": null,
      "width": null
     }
    },
    "8cc96e35097043d6b55d1fc8746492e5": {
     "model_module": "@jupyter-widgets/controls",
     "model_module_version": "1.5.0",
     "model_name": "DescriptionStyleModel",
     "state": {
      "_model_module": "@jupyter-widgets/controls",
      "_model_module_version": "1.5.0",
      "_model_name": "DescriptionStyleModel",
      "_view_count": null,
      "_view_module": "@jupyter-widgets/base",
      "_view_module_version": "1.2.0",
      "_view_name": "StyleView",
      "description_width": ""
     }
    },
    "8e1fe28114b14485a30e83cf6cf66d74": {
     "model_module": "@jupyter-widgets/controls",
     "model_module_version": "1.5.0",
     "model_name": "HTMLModel",
     "state": {
      "_dom_classes": [],
      "_model_module": "@jupyter-widgets/controls",
      "_model_module_version": "1.5.0",
      "_model_name": "HTMLModel",
      "_view_count": null,
      "_view_module": "@jupyter-widgets/controls",
      "_view_module_version": "1.5.0",
      "_view_name": "HTMLView",
      "description": "",
      "description_tooltip": null,
      "layout": "IPY_MODEL_bd101a6e13304810a3c83b0406a8a799",
      "placeholder": "​",
      "style": "IPY_MODEL_7fa1a5f1bc104e3a891dda7e08c7ede4",
      "value": "100%"
     }
    },
    "8ea0da67b3f04b7a8f4ff114d79c760b": {
     "model_module": "@jupyter-widgets/controls",
     "model_module_version": "1.5.0",
     "model_name": "DescriptionStyleModel",
     "state": {
      "_model_module": "@jupyter-widgets/controls",
      "_model_module_version": "1.5.0",
      "_model_name": "DescriptionStyleModel",
      "_view_count": null,
      "_view_module": "@jupyter-widgets/base",
      "_view_module_version": "1.2.0",
      "_view_name": "StyleView",
      "description_width": ""
     }
    },
    "8ee6fb26ba724f9881a7cff971abc7eb": {
     "model_module": "@jupyter-widgets/base",
     "model_module_version": "1.2.0",
     "model_name": "LayoutModel",
     "state": {
      "_model_module": "@jupyter-widgets/base",
      "_model_module_version": "1.2.0",
      "_model_name": "LayoutModel",
      "_view_count": null,
      "_view_module": "@jupyter-widgets/base",
      "_view_module_version": "1.2.0",
      "_view_name": "LayoutView",
      "align_content": null,
      "align_items": null,
      "align_self": null,
      "border": null,
      "bottom": null,
      "display": null,
      "flex": null,
      "flex_flow": null,
      "grid_area": null,
      "grid_auto_columns": null,
      "grid_auto_flow": null,
      "grid_auto_rows": null,
      "grid_column": null,
      "grid_gap": null,
      "grid_row": null,
      "grid_template_areas": null,
      "grid_template_columns": null,
      "grid_template_rows": null,
      "height": null,
      "justify_content": null,
      "justify_items": null,
      "left": null,
      "margin": null,
      "max_height": null,
      "max_width": null,
      "min_height": null,
      "min_width": null,
      "object_fit": null,
      "object_position": null,
      "order": null,
      "overflow": null,
      "overflow_x": null,
      "overflow_y": null,
      "padding": null,
      "right": null,
      "top": null,
      "visibility": null,
      "width": null
     }
    },
    "9006dba2e95041259a29e09d90d2bd7b": {
     "model_module": "@jupyter-widgets/controls",
     "model_module_version": "1.5.0",
     "model_name": "DescriptionStyleModel",
     "state": {
      "_model_module": "@jupyter-widgets/controls",
      "_model_module_version": "1.5.0",
      "_model_name": "DescriptionStyleModel",
      "_view_count": null,
      "_view_module": "@jupyter-widgets/base",
      "_view_module_version": "1.2.0",
      "_view_name": "StyleView",
      "description_width": ""
     }
    },
    "9859143310b349a587f7a4fd75eb3708": {
     "model_module": "@jupyter-widgets/controls",
     "model_module_version": "1.5.0",
     "model_name": "HBoxModel",
     "state": {
      "_dom_classes": [],
      "_model_module": "@jupyter-widgets/controls",
      "_model_module_version": "1.5.0",
      "_model_name": "HBoxModel",
      "_view_count": null,
      "_view_module": "@jupyter-widgets/controls",
      "_view_module_version": "1.5.0",
      "_view_name": "HBoxView",
      "box_style": "",
      "children": [
       "IPY_MODEL_3c0d79bb5d70462397c990ae7c586db1",
       "IPY_MODEL_af740a58d6274bdc9285c3125fa8299c",
       "IPY_MODEL_12643e97e56d4dd8b3b4cbc2410262e8"
      ],
      "layout": "IPY_MODEL_4207246690bf4ec1a1a4024315525453"
     }
    },
    "98f3aec5f42d4e21a50530b885052583": {
     "model_module": "@jupyter-widgets/base",
     "model_module_version": "1.2.0",
     "model_name": "LayoutModel",
     "state": {
      "_model_module": "@jupyter-widgets/base",
      "_model_module_version": "1.2.0",
      "_model_name": "LayoutModel",
      "_view_count": null,
      "_view_module": "@jupyter-widgets/base",
      "_view_module_version": "1.2.0",
      "_view_name": "LayoutView",
      "align_content": null,
      "align_items": null,
      "align_self": null,
      "border": null,
      "bottom": null,
      "display": null,
      "flex": null,
      "flex_flow": null,
      "grid_area": null,
      "grid_auto_columns": null,
      "grid_auto_flow": null,
      "grid_auto_rows": null,
      "grid_column": null,
      "grid_gap": null,
      "grid_row": null,
      "grid_template_areas": null,
      "grid_template_columns": null,
      "grid_template_rows": null,
      "height": null,
      "justify_content": null,
      "justify_items": null,
      "left": null,
      "margin": null,
      "max_height": null,
      "max_width": null,
      "min_height": null,
      "min_width": null,
      "object_fit": null,
      "object_position": null,
      "order": null,
      "overflow": null,
      "overflow_x": null,
      "overflow_y": null,
      "padding": null,
      "right": null,
      "top": null,
      "visibility": null,
      "width": null
     }
    },
    "99716b5c34ed4c8692bed5afe1338c79": {
     "model_module": "@jupyter-widgets/controls",
     "model_module_version": "1.5.0",
     "model_name": "DescriptionStyleModel",
     "state": {
      "_model_module": "@jupyter-widgets/controls",
      "_model_module_version": "1.5.0",
      "_model_name": "DescriptionStyleModel",
      "_view_count": null,
      "_view_module": "@jupyter-widgets/base",
      "_view_module_version": "1.2.0",
      "_view_name": "StyleView",
      "description_width": ""
     }
    },
    "9de35f9db9064eb6980a64662b5e063d": {
     "model_module": "@jupyter-widgets/controls",
     "model_module_version": "1.5.0",
     "model_name": "DescriptionStyleModel",
     "state": {
      "_model_module": "@jupyter-widgets/controls",
      "_model_module_version": "1.5.0",
      "_model_name": "DescriptionStyleModel",
      "_view_count": null,
      "_view_module": "@jupyter-widgets/base",
      "_view_module_version": "1.2.0",
      "_view_name": "StyleView",
      "description_width": ""
     }
    },
    "9fc69d3858a8423aaba96dcfa85c188c": {
     "model_module": "@jupyter-widgets/controls",
     "model_module_version": "1.5.0",
     "model_name": "HTMLModel",
     "state": {
      "_dom_classes": [],
      "_model_module": "@jupyter-widgets/controls",
      "_model_module_version": "1.5.0",
      "_model_name": "HTMLModel",
      "_view_count": null,
      "_view_module": "@jupyter-widgets/controls",
      "_view_module_version": "1.5.0",
      "_view_name": "HTMLView",
      "description": "",
      "description_tooltip": null,
      "layout": "IPY_MODEL_62cd4bec580741bdb1b25d044564e503",
      "placeholder": "​",
      "style": "IPY_MODEL_8a453da457fa44469b6d52e5a8cf5e2a",
      "value": " 1649664/? [00:00&lt;00:00, 13956567.63it/s]"
     }
    },
    "a616e09ba0f54cd588fc9ad92e71149b": {
     "model_module": "@jupyter-widgets/controls",
     "model_module_version": "1.5.0",
     "model_name": "ProgressStyleModel",
     "state": {
      "_model_module": "@jupyter-widgets/controls",
      "_model_module_version": "1.5.0",
      "_model_name": "ProgressStyleModel",
      "_view_count": null,
      "_view_module": "@jupyter-widgets/base",
      "_view_module_version": "1.2.0",
      "_view_name": "StyleView",
      "bar_color": null,
      "description_width": ""
     }
    },
    "a675748767ba4733b3988fb1c23701f0": {
     "model_module": "@jupyter-widgets/controls",
     "model_module_version": "1.5.0",
     "model_name": "ProgressStyleModel",
     "state": {
      "_model_module": "@jupyter-widgets/controls",
      "_model_module_version": "1.5.0",
      "_model_name": "ProgressStyleModel",
      "_view_count": null,
      "_view_module": "@jupyter-widgets/base",
      "_view_module_version": "1.2.0",
      "_view_name": "StyleView",
      "bar_color": null,
      "description_width": ""
     }
    },
    "a7610fc67e89458cb23df7af70af6a5e": {
     "model_module": "@jupyter-widgets/controls",
     "model_module_version": "1.5.0",
     "model_name": "HBoxModel",
     "state": {
      "_dom_classes": [],
      "_model_module": "@jupyter-widgets/controls",
      "_model_module_version": "1.5.0",
      "_model_name": "HBoxModel",
      "_view_count": null,
      "_view_module": "@jupyter-widgets/controls",
      "_view_module_version": "1.5.0",
      "_view_name": "HBoxView",
      "box_style": "",
      "children": [
       "IPY_MODEL_7a6e894062f64d97bd6a1c0ca82d8de0",
       "IPY_MODEL_25a75505829045dfaa836e16f7c2fbfd",
       "IPY_MODEL_8a38991e8cac424c9facbdf22fa2ee0f"
      ],
      "layout": "IPY_MODEL_062cbde621c74c9d92ec93a9773f30ad"
     }
    },
    "adb7d0e4c54b4693999f295d75e751fd": {
     "model_module": "@jupyter-widgets/controls",
     "model_module_version": "1.5.0",
     "model_name": "ProgressStyleModel",
     "state": {
      "_model_module": "@jupyter-widgets/controls",
      "_model_module_version": "1.5.0",
      "_model_name": "ProgressStyleModel",
      "_view_count": null,
      "_view_module": "@jupyter-widgets/base",
      "_view_module_version": "1.2.0",
      "_view_name": "StyleView",
      "bar_color": null,
      "description_width": ""
     }
    },
    "af740a58d6274bdc9285c3125fa8299c": {
     "model_module": "@jupyter-widgets/controls",
     "model_module_version": "1.5.0",
     "model_name": "FloatProgressModel",
     "state": {
      "_dom_classes": [],
      "_model_module": "@jupyter-widgets/controls",
      "_model_module_version": "1.5.0",
      "_model_name": "FloatProgressModel",
      "_view_count": null,
      "_view_module": "@jupyter-widgets/controls",
      "_view_module_version": "1.5.0",
      "_view_name": "ProgressView",
      "bar_style": "success",
      "description": "",
      "description_tooltip": null,
      "layout": "IPY_MODEL_263c21d7aa9d4d2cb684682384e38fd8",
      "max": 50,
      "min": 0,
      "orientation": "horizontal",
      "style": "IPY_MODEL_a675748767ba4733b3988fb1c23701f0",
      "value": 50
     }
    },
    "b33f666408114ae7a76a91847d9e6c3f": {
     "model_module": "@jupyter-widgets/controls",
     "model_module_version": "1.5.0",
     "model_name": "HBoxModel",
     "state": {
      "_dom_classes": [],
      "_model_module": "@jupyter-widgets/controls",
      "_model_module_version": "1.5.0",
      "_model_name": "HBoxModel",
      "_view_count": null,
      "_view_module": "@jupyter-widgets/controls",
      "_view_module_version": "1.5.0",
      "_view_name": "HBoxView",
      "box_style": "",
      "children": [
       "IPY_MODEL_6eb5250778a54701bc5be5e9d2465ac0",
       "IPY_MODEL_3bb39eb9915343f99d33e0e09843d8bc",
       "IPY_MODEL_c2f31ecc007e434cb83d7e995d2d934a"
      ],
      "layout": "IPY_MODEL_e95b0c79232c4d38865a88622749a18a"
     }
    },
    "b3adfcf33c314c6ca05c9885178af4f2": {
     "model_module": "@jupyter-widgets/base",
     "model_module_version": "1.2.0",
     "model_name": "LayoutModel",
     "state": {
      "_model_module": "@jupyter-widgets/base",
      "_model_module_version": "1.2.0",
      "_model_name": "LayoutModel",
      "_view_count": null,
      "_view_module": "@jupyter-widgets/base",
      "_view_module_version": "1.2.0",
      "_view_name": "LayoutView",
      "align_content": null,
      "align_items": null,
      "align_self": null,
      "border": null,
      "bottom": null,
      "display": null,
      "flex": null,
      "flex_flow": null,
      "grid_area": null,
      "grid_auto_columns": null,
      "grid_auto_flow": null,
      "grid_auto_rows": null,
      "grid_column": null,
      "grid_gap": null,
      "grid_row": null,
      "grid_template_areas": null,
      "grid_template_columns": null,
      "grid_template_rows": null,
      "height": null,
      "justify_content": null,
      "justify_items": null,
      "left": null,
      "margin": null,
      "max_height": null,
      "max_width": null,
      "min_height": null,
      "min_width": null,
      "object_fit": null,
      "object_position": null,
      "order": null,
      "overflow": null,
      "overflow_x": null,
      "overflow_y": null,
      "padding": null,
      "right": null,
      "top": null,
      "visibility": null,
      "width": null
     }
    },
    "b508d834ab10481b9ba19be1ffec5e09": {
     "model_module": "@jupyter-widgets/controls",
     "model_module_version": "1.5.0",
     "model_name": "FloatProgressModel",
     "state": {
      "_dom_classes": [],
      "_model_module": "@jupyter-widgets/controls",
      "_model_module_version": "1.5.0",
      "_model_name": "FloatProgressModel",
      "_view_count": null,
      "_view_module": "@jupyter-widgets/controls",
      "_view_module_version": "1.5.0",
      "_view_name": "ProgressView",
      "bar_style": "success",
      "description": "",
      "description_tooltip": null,
      "layout": "IPY_MODEL_ee60f1b30c8d4d0eb32250260d2ef4f8",
      "max": 30,
      "min": 0,
      "orientation": "horizontal",
      "style": "IPY_MODEL_cb9f6959ba8e4e2e814181925097e666",
      "value": 30
     }
    },
    "bc19c00f043a422781086fd2d506396a": {
     "model_module": "@jupyter-widgets/controls",
     "model_module_version": "1.5.0",
     "model_name": "FloatProgressModel",
     "state": {
      "_dom_classes": [],
      "_model_module": "@jupyter-widgets/controls",
      "_model_module_version": "1.5.0",
      "_model_name": "FloatProgressModel",
      "_view_count": null,
      "_view_module": "@jupyter-widgets/controls",
      "_view_module_version": "1.5.0",
      "_view_name": "ProgressView",
      "bar_style": "success",
      "description": "",
      "description_tooltip": null,
      "layout": "IPY_MODEL_eabf354e36d14984afa125ffeb979ded",
      "max": 9912422,
      "min": 0,
      "orientation": "horizontal",
      "style": "IPY_MODEL_adb7d0e4c54b4693999f295d75e751fd",
      "value": 9912422
     }
    },
    "bd101a6e13304810a3c83b0406a8a799": {
     "model_module": "@jupyter-widgets/base",
     "model_module_version": "1.2.0",
     "model_name": "LayoutModel",
     "state": {
      "_model_module": "@jupyter-widgets/base",
      "_model_module_version": "1.2.0",
      "_model_name": "LayoutModel",
      "_view_count": null,
      "_view_module": "@jupyter-widgets/base",
      "_view_module_version": "1.2.0",
      "_view_name": "LayoutView",
      "align_content": null,
      "align_items": null,
      "align_self": null,
      "border": null,
      "bottom": null,
      "display": null,
      "flex": null,
      "flex_flow": null,
      "grid_area": null,
      "grid_auto_columns": null,
      "grid_auto_flow": null,
      "grid_auto_rows": null,
      "grid_column": null,
      "grid_gap": null,
      "grid_row": null,
      "grid_template_areas": null,
      "grid_template_columns": null,
      "grid_template_rows": null,
      "height": null,
      "justify_content": null,
      "justify_items": null,
      "left": null,
      "margin": null,
      "max_height": null,
      "max_width": null,
      "min_height": null,
      "min_width": null,
      "object_fit": null,
      "object_position": null,
      "order": null,
      "overflow": null,
      "overflow_x": null,
      "overflow_y": null,
      "padding": null,
      "right": null,
      "top": null,
      "visibility": null,
      "width": null
     }
    },
    "c2f31ecc007e434cb83d7e995d2d934a": {
     "model_module": "@jupyter-widgets/controls",
     "model_module_version": "1.5.0",
     "model_name": "HTMLModel",
     "state": {
      "_dom_classes": [],
      "_model_module": "@jupyter-widgets/controls",
      "_model_module_version": "1.5.0",
      "_model_name": "HTMLModel",
      "_view_count": null,
      "_view_module": "@jupyter-widgets/controls",
      "_view_module_version": "1.5.0",
      "_view_name": "HTMLView",
      "description": "",
      "description_tooltip": null,
      "layout": "IPY_MODEL_2bbe082104f24b98b5ef120b81eef2ee",
      "placeholder": "​",
      "style": "IPY_MODEL_ec82265ee2e8400e96e566f975a15a31",
      "value": " 5120/? [00:00&lt;00:00, 97839.26it/s]"
     }
    },
    "c3e50fff0cc64bf48e360e028f053ca6": {
     "model_module": "@jupyter-widgets/controls",
     "model_module_version": "1.5.0",
     "model_name": "HBoxModel",
     "state": {
      "_dom_classes": [],
      "_model_module": "@jupyter-widgets/controls",
      "_model_module_version": "1.5.0",
      "_model_name": "HBoxModel",
      "_view_count": null,
      "_view_module": "@jupyter-widgets/controls",
      "_view_module_version": "1.5.0",
      "_view_name": "HBoxView",
      "box_style": "",
      "children": [
       "IPY_MODEL_01c6ff20bc7b4e2d90134e83623cf76c",
       "IPY_MODEL_2bfbfdd930c245548f738b79b92068a9",
       "IPY_MODEL_f6745b4a4d89445b8578f1060796c48c"
      ],
      "layout": "IPY_MODEL_8ee6fb26ba724f9881a7cff971abc7eb"
     }
    },
    "c58493e3d9d642a9920706a57c890b0b": {
     "model_module": "@jupyter-widgets/controls",
     "model_module_version": "1.5.0",
     "model_name": "ProgressStyleModel",
     "state": {
      "_model_module": "@jupyter-widgets/controls",
      "_model_module_version": "1.5.0",
      "_model_name": "ProgressStyleModel",
      "_view_count": null,
      "_view_module": "@jupyter-widgets/base",
      "_view_module_version": "1.2.0",
      "_view_name": "StyleView",
      "bar_color": null,
      "description_width": ""
     }
    },
    "cb5fa86e3e7348259a8c9c230709c330": {
     "model_module": "@jupyter-widgets/base",
     "model_module_version": "1.2.0",
     "model_name": "LayoutModel",
     "state": {
      "_model_module": "@jupyter-widgets/base",
      "_model_module_version": "1.2.0",
      "_model_name": "LayoutModel",
      "_view_count": null,
      "_view_module": "@jupyter-widgets/base",
      "_view_module_version": "1.2.0",
      "_view_name": "LayoutView",
      "align_content": null,
      "align_items": null,
      "align_self": null,
      "border": null,
      "bottom": null,
      "display": null,
      "flex": null,
      "flex_flow": null,
      "grid_area": null,
      "grid_auto_columns": null,
      "grid_auto_flow": null,
      "grid_auto_rows": null,
      "grid_column": null,
      "grid_gap": null,
      "grid_row": null,
      "grid_template_areas": null,
      "grid_template_columns": null,
      "grid_template_rows": null,
      "height": null,
      "justify_content": null,
      "justify_items": null,
      "left": null,
      "margin": null,
      "max_height": null,
      "max_width": null,
      "min_height": null,
      "min_width": null,
      "object_fit": null,
      "object_position": null,
      "order": null,
      "overflow": null,
      "overflow_x": null,
      "overflow_y": null,
      "padding": null,
      "right": null,
      "top": null,
      "visibility": null,
      "width": null
     }
    },
    "cb9f6959ba8e4e2e814181925097e666": {
     "model_module": "@jupyter-widgets/controls",
     "model_module_version": "1.5.0",
     "model_name": "ProgressStyleModel",
     "state": {
      "_model_module": "@jupyter-widgets/controls",
      "_model_module_version": "1.5.0",
      "_model_name": "ProgressStyleModel",
      "_view_count": null,
      "_view_module": "@jupyter-widgets/base",
      "_view_module_version": "1.2.0",
      "_view_name": "StyleView",
      "bar_color": null,
      "description_width": ""
     }
    },
    "d4508bb7e3024255a3678bf5ec830d02": {
     "model_module": "@jupyter-widgets/controls",
     "model_module_version": "1.5.0",
     "model_name": "HBoxModel",
     "state": {
      "_dom_classes": [],
      "_model_module": "@jupyter-widgets/controls",
      "_model_module_version": "1.5.0",
      "_model_name": "HBoxModel",
      "_view_count": null,
      "_view_module": "@jupyter-widgets/controls",
      "_view_module_version": "1.5.0",
      "_view_name": "HBoxView",
      "box_style": "",
      "children": [
       "IPY_MODEL_11f8c9eb919a4ee38d58a0453d34a5a5",
       "IPY_MODEL_e6d8ea3dd0e240c999515ea0a4674c88",
       "IPY_MODEL_9fc69d3858a8423aaba96dcfa85c188c"
      ],
      "layout": "IPY_MODEL_697666a89bc94ac6b57ff313be5ea03d"
     }
    },
    "d4ab7ef90da74b0dbf1892db1d6c5436": {
     "model_module": "@jupyter-widgets/base",
     "model_module_version": "1.2.0",
     "model_name": "LayoutModel",
     "state": {
      "_model_module": "@jupyter-widgets/base",
      "_model_module_version": "1.2.0",
      "_model_name": "LayoutModel",
      "_view_count": null,
      "_view_module": "@jupyter-widgets/base",
      "_view_module_version": "1.2.0",
      "_view_name": "LayoutView",
      "align_content": null,
      "align_items": null,
      "align_self": null,
      "border": null,
      "bottom": null,
      "display": null,
      "flex": null,
      "flex_flow": null,
      "grid_area": null,
      "grid_auto_columns": null,
      "grid_auto_flow": null,
      "grid_auto_rows": null,
      "grid_column": null,
      "grid_gap": null,
      "grid_row": null,
      "grid_template_areas": null,
      "grid_template_columns": null,
      "grid_template_rows": null,
      "height": null,
      "justify_content": null,
      "justify_items": null,
      "left": null,
      "margin": null,
      "max_height": null,
      "max_width": null,
      "min_height": null,
      "min_width": null,
      "object_fit": null,
      "object_position": null,
      "order": null,
      "overflow": null,
      "overflow_x": null,
      "overflow_y": null,
      "padding": null,
      "right": null,
      "top": null,
      "visibility": null,
      "width": null
     }
    },
    "e29d9c5ddcb748b8b71fd73bcad67bd3": {
     "model_module": "@jupyter-widgets/base",
     "model_module_version": "1.2.0",
     "model_name": "LayoutModel",
     "state": {
      "_model_module": "@jupyter-widgets/base",
      "_model_module_version": "1.2.0",
      "_model_name": "LayoutModel",
      "_view_count": null,
      "_view_module": "@jupyter-widgets/base",
      "_view_module_version": "1.2.0",
      "_view_name": "LayoutView",
      "align_content": null,
      "align_items": null,
      "align_self": null,
      "border": null,
      "bottom": null,
      "display": null,
      "flex": null,
      "flex_flow": null,
      "grid_area": null,
      "grid_auto_columns": null,
      "grid_auto_flow": null,
      "grid_auto_rows": null,
      "grid_column": null,
      "grid_gap": null,
      "grid_row": null,
      "grid_template_areas": null,
      "grid_template_columns": null,
      "grid_template_rows": null,
      "height": null,
      "justify_content": null,
      "justify_items": null,
      "left": null,
      "margin": null,
      "max_height": null,
      "max_width": null,
      "min_height": null,
      "min_width": null,
      "object_fit": null,
      "object_position": null,
      "order": null,
      "overflow": null,
      "overflow_x": null,
      "overflow_y": null,
      "padding": null,
      "right": null,
      "top": null,
      "visibility": null,
      "width": null
     }
    },
    "e2aacba07a9e4d25970a965c1fcfddaa": {
     "model_module": "@jupyter-widgets/controls",
     "model_module_version": "1.5.0",
     "model_name": "DescriptionStyleModel",
     "state": {
      "_model_module": "@jupyter-widgets/controls",
      "_model_module_version": "1.5.0",
      "_model_name": "DescriptionStyleModel",
      "_view_count": null,
      "_view_module": "@jupyter-widgets/base",
      "_view_module_version": "1.2.0",
      "_view_name": "StyleView",
      "description_width": ""
     }
    },
    "e4def912296e4381a52f8cb175f65951": {
     "model_module": "@jupyter-widgets/base",
     "model_module_version": "1.2.0",
     "model_name": "LayoutModel",
     "state": {
      "_model_module": "@jupyter-widgets/base",
      "_model_module_version": "1.2.0",
      "_model_name": "LayoutModel",
      "_view_count": null,
      "_view_module": "@jupyter-widgets/base",
      "_view_module_version": "1.2.0",
      "_view_name": "LayoutView",
      "align_content": null,
      "align_items": null,
      "align_self": null,
      "border": null,
      "bottom": null,
      "display": null,
      "flex": null,
      "flex_flow": null,
      "grid_area": null,
      "grid_auto_columns": null,
      "grid_auto_flow": null,
      "grid_auto_rows": null,
      "grid_column": null,
      "grid_gap": null,
      "grid_row": null,
      "grid_template_areas": null,
      "grid_template_columns": null,
      "grid_template_rows": null,
      "height": null,
      "justify_content": null,
      "justify_items": null,
      "left": null,
      "margin": null,
      "max_height": null,
      "max_width": null,
      "min_height": null,
      "min_width": null,
      "object_fit": null,
      "object_position": null,
      "order": null,
      "overflow": null,
      "overflow_x": null,
      "overflow_y": null,
      "padding": null,
      "right": null,
      "top": null,
      "visibility": null,
      "width": null
     }
    },
    "e54078a5be004cd2beed7dc03a536cb4": {
     "model_module": "@jupyter-widgets/base",
     "model_module_version": "1.2.0",
     "model_name": "LayoutModel",
     "state": {
      "_model_module": "@jupyter-widgets/base",
      "_model_module_version": "1.2.0",
      "_model_name": "LayoutModel",
      "_view_count": null,
      "_view_module": "@jupyter-widgets/base",
      "_view_module_version": "1.2.0",
      "_view_name": "LayoutView",
      "align_content": null,
      "align_items": null,
      "align_self": null,
      "border": null,
      "bottom": null,
      "display": null,
      "flex": null,
      "flex_flow": null,
      "grid_area": null,
      "grid_auto_columns": null,
      "grid_auto_flow": null,
      "grid_auto_rows": null,
      "grid_column": null,
      "grid_gap": null,
      "grid_row": null,
      "grid_template_areas": null,
      "grid_template_columns": null,
      "grid_template_rows": null,
      "height": null,
      "justify_content": null,
      "justify_items": null,
      "left": null,
      "margin": null,
      "max_height": null,
      "max_width": null,
      "min_height": null,
      "min_width": null,
      "object_fit": null,
      "object_position": null,
      "order": null,
      "overflow": null,
      "overflow_x": null,
      "overflow_y": null,
      "padding": null,
      "right": null,
      "top": null,
      "visibility": null,
      "width": null
     }
    },
    "e6d8ea3dd0e240c999515ea0a4674c88": {
     "model_module": "@jupyter-widgets/controls",
     "model_module_version": "1.5.0",
     "model_name": "FloatProgressModel",
     "state": {
      "_dom_classes": [],
      "_model_module": "@jupyter-widgets/controls",
      "_model_module_version": "1.5.0",
      "_model_name": "FloatProgressModel",
      "_view_count": null,
      "_view_module": "@jupyter-widgets/controls",
      "_view_module_version": "1.5.0",
      "_view_name": "ProgressView",
      "bar_style": "success",
      "description": "",
      "description_tooltip": null,
      "layout": "IPY_MODEL_8bb4cd75812e479ba392a46bff06d82b",
      "max": 1648877,
      "min": 0,
      "orientation": "horizontal",
      "style": "IPY_MODEL_605968951c4a4a3fbf6c62145898887f",
      "value": 1648877
     }
    },
    "e95b0c79232c4d38865a88622749a18a": {
     "model_module": "@jupyter-widgets/base",
     "model_module_version": "1.2.0",
     "model_name": "LayoutModel",
     "state": {
      "_model_module": "@jupyter-widgets/base",
      "_model_module_version": "1.2.0",
      "_model_name": "LayoutModel",
      "_view_count": null,
      "_view_module": "@jupyter-widgets/base",
      "_view_module_version": "1.2.0",
      "_view_name": "LayoutView",
      "align_content": null,
      "align_items": null,
      "align_self": null,
      "border": null,
      "bottom": null,
      "display": null,
      "flex": null,
      "flex_flow": null,
      "grid_area": null,
      "grid_auto_columns": null,
      "grid_auto_flow": null,
      "grid_auto_rows": null,
      "grid_column": null,
      "grid_gap": null,
      "grid_row": null,
      "grid_template_areas": null,
      "grid_template_columns": null,
      "grid_template_rows": null,
      "height": null,
      "justify_content": null,
      "justify_items": null,
      "left": null,
      "margin": null,
      "max_height": null,
      "max_width": null,
      "min_height": null,
      "min_width": null,
      "object_fit": null,
      "object_position": null,
      "order": null,
      "overflow": null,
      "overflow_x": null,
      "overflow_y": null,
      "padding": null,
      "right": null,
      "top": null,
      "visibility": null,
      "width": null
     }
    },
    "eabf354e36d14984afa125ffeb979ded": {
     "model_module": "@jupyter-widgets/base",
     "model_module_version": "1.2.0",
     "model_name": "LayoutModel",
     "state": {
      "_model_module": "@jupyter-widgets/base",
      "_model_module_version": "1.2.0",
      "_model_name": "LayoutModel",
      "_view_count": null,
      "_view_module": "@jupyter-widgets/base",
      "_view_module_version": "1.2.0",
      "_view_name": "LayoutView",
      "align_content": null,
      "align_items": null,
      "align_self": null,
      "border": null,
      "bottom": null,
      "display": null,
      "flex": null,
      "flex_flow": null,
      "grid_area": null,
      "grid_auto_columns": null,
      "grid_auto_flow": null,
      "grid_auto_rows": null,
      "grid_column": null,
      "grid_gap": null,
      "grid_row": null,
      "grid_template_areas": null,
      "grid_template_columns": null,
      "grid_template_rows": null,
      "height": null,
      "justify_content": null,
      "justify_items": null,
      "left": null,
      "margin": null,
      "max_height": null,
      "max_width": null,
      "min_height": null,
      "min_width": null,
      "object_fit": null,
      "object_position": null,
      "order": null,
      "overflow": null,
      "overflow_x": null,
      "overflow_y": null,
      "padding": null,
      "right": null,
      "top": null,
      "visibility": null,
      "width": null
     }
    },
    "ec82265ee2e8400e96e566f975a15a31": {
     "model_module": "@jupyter-widgets/controls",
     "model_module_version": "1.5.0",
     "model_name": "DescriptionStyleModel",
     "state": {
      "_model_module": "@jupyter-widgets/controls",
      "_model_module_version": "1.5.0",
      "_model_name": "DescriptionStyleModel",
      "_view_count": null,
      "_view_module": "@jupyter-widgets/base",
      "_view_module_version": "1.2.0",
      "_view_name": "StyleView",
      "description_width": ""
     }
    },
    "ee60f1b30c8d4d0eb32250260d2ef4f8": {
     "model_module": "@jupyter-widgets/base",
     "model_module_version": "1.2.0",
     "model_name": "LayoutModel",
     "state": {
      "_model_module": "@jupyter-widgets/base",
      "_model_module_version": "1.2.0",
      "_model_name": "LayoutModel",
      "_view_count": null,
      "_view_module": "@jupyter-widgets/base",
      "_view_module_version": "1.2.0",
      "_view_name": "LayoutView",
      "align_content": null,
      "align_items": null,
      "align_self": null,
      "border": null,
      "bottom": null,
      "display": null,
      "flex": null,
      "flex_flow": null,
      "grid_area": null,
      "grid_auto_columns": null,
      "grid_auto_flow": null,
      "grid_auto_rows": null,
      "grid_column": null,
      "grid_gap": null,
      "grid_row": null,
      "grid_template_areas": null,
      "grid_template_columns": null,
      "grid_template_rows": null,
      "height": null,
      "justify_content": null,
      "justify_items": null,
      "left": null,
      "margin": null,
      "max_height": null,
      "max_width": null,
      "min_height": null,
      "min_width": null,
      "object_fit": null,
      "object_position": null,
      "order": null,
      "overflow": null,
      "overflow_x": null,
      "overflow_y": null,
      "padding": null,
      "right": null,
      "top": null,
      "visibility": null,
      "width": null
     }
    },
    "efb8a93c719a4800b87e7502bd2b77ea": {
     "model_module": "@jupyter-widgets/base",
     "model_module_version": "1.2.0",
     "model_name": "LayoutModel",
     "state": {
      "_model_module": "@jupyter-widgets/base",
      "_model_module_version": "1.2.0",
      "_model_name": "LayoutModel",
      "_view_count": null,
      "_view_module": "@jupyter-widgets/base",
      "_view_module_version": "1.2.0",
      "_view_name": "LayoutView",
      "align_content": null,
      "align_items": null,
      "align_self": null,
      "border": null,
      "bottom": null,
      "display": null,
      "flex": null,
      "flex_flow": null,
      "grid_area": null,
      "grid_auto_columns": null,
      "grid_auto_flow": null,
      "grid_auto_rows": null,
      "grid_column": null,
      "grid_gap": null,
      "grid_row": null,
      "grid_template_areas": null,
      "grid_template_columns": null,
      "grid_template_rows": null,
      "height": null,
      "justify_content": null,
      "justify_items": null,
      "left": null,
      "margin": null,
      "max_height": null,
      "max_width": null,
      "min_height": null,
      "min_width": null,
      "object_fit": null,
      "object_position": null,
      "order": null,
      "overflow": null,
      "overflow_x": null,
      "overflow_y": null,
      "padding": null,
      "right": null,
      "top": null,
      "visibility": null,
      "width": null
     }
    },
    "f6745b4a4d89445b8578f1060796c48c": {
     "model_module": "@jupyter-widgets/controls",
     "model_module_version": "1.5.0",
     "model_name": "HTMLModel",
     "state": {
      "_dom_classes": [],
      "_model_module": "@jupyter-widgets/controls",
      "_model_module_version": "1.5.0",
      "_model_name": "HTMLModel",
      "_view_count": null,
      "_view_module": "@jupyter-widgets/controls",
      "_view_module_version": "1.5.0",
      "_view_name": "HTMLView",
      "description": "",
      "description_tooltip": null,
      "layout": "IPY_MODEL_2bf9f6c809774cef8cba9e4c6f0d1f0e",
      "placeholder": "​",
      "style": "IPY_MODEL_5ee12b75f37b4591859974413209ab50",
      "value": " 50/50 [00:07&lt;00:00,  6.67it/s]"
     }
    },
    "fa2c9dcb1fd048a0b321042b527e65ef": {
     "model_module": "@jupyter-widgets/controls",
     "model_module_version": "1.5.0",
     "model_name": "DescriptionStyleModel",
     "state": {
      "_model_module": "@jupyter-widgets/controls",
      "_model_module_version": "1.5.0",
      "_model_name": "DescriptionStyleModel",
      "_view_count": null,
      "_view_module": "@jupyter-widgets/base",
      "_view_module_version": "1.2.0",
      "_view_name": "StyleView",
      "description_width": ""
     }
    }
   }
  }
 },
 "nbformat": 4,
 "nbformat_minor": 1
}
